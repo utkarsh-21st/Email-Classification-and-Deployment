{
 "cells": [
  {
   "cell_type": "code",
   "execution_count": 1,
   "metadata": {},
   "outputs": [],
   "source": [
    "s1 = 1 # used only for pre modelling part\n",
    "# s2 = 2\n",
    "# s3 = 3\n",
    "s4 = 4 # modelling part ensemble-1\n",
    "s5 = 5 # modeliing part ensemble-2"
   ]
  },
  {
   "cell_type": "markdown",
   "metadata": {
    "id": "qWZW-xzI7oIS"
   },
   "source": [
    "## Loading  email data and removing unwanted text"
   ]
  },
  {
   "cell_type": "code",
   "execution_count": 2,
   "metadata": {},
   "outputs": [],
   "source": [
    "import numpy as np\n",
    "import tensorflow as tf\n",
    "import pandas as pd\n",
    "from sklearn.model_selection import train_test_split\n",
    "from sklearn.preprocessing import LabelEncoder\n",
    "import os\n",
    "from pathlib import Path\n",
    "import pandas as pd\n",
    "import extract_msg\n",
    "import zipfile\n",
    "import re"
   ]
  },
  {
   "cell_type": "code",
   "execution_count": 3,
   "metadata": {},
   "outputs": [],
   "source": [
    "# setting seed\n",
    "seed = s1\n",
    "np.random.seed(seed)\n",
    "tf.random.set_seed(seed)"
   ]
  },
  {
   "cell_type": "code",
   "execution_count": 4,
   "metadata": {
    "colab": {
     "base_uri": "https://localhost:8080/"
    },
    "executionInfo": {
     "elapsed": 3502,
     "status": "ok",
     "timestamp": 1607800466273,
     "user": {
      "displayName": "Utkarsh Jain",
      "photoUrl": "https://lh3.googleusercontent.com/-gplhvKJjZdQ/AAAAAAAAAAI/AAAAAAAAEhA/cT_zmta4k_Q/s64/photo.jpg",
      "userId": "09628245901381158092"
     },
     "user_tz": -330
    },
    "id": "WXhPGE7A_MyN",
    "outputId": "41a966f5-df74-454d-e37c-c0e019ee66c4"
   },
   "outputs": [],
   "source": [
    "# !pip install extract_msg"
   ]
  },
  {
   "cell_type": "code",
   "execution_count": 5,
   "metadata": {
    "scrolled": true
   },
   "outputs": [
    {
     "data": {
      "text/plain": [
       "['jupyter.ipynb',\n",
       " 'complain_classifier',\n",
       " 'trasformers_test.ipynb',\n",
       " 'app',\n",
       " 'investigate emails.ipynb',\n",
       " 'run.py',\n",
       " '.idea',\n",
       " '.ipynb_checkpoints',\n",
       " 'requirements.txt']"
      ]
     },
     "execution_count": 5,
     "metadata": {},
     "output_type": "execute_result"
    }
   ],
   "source": [
    "os.listdir()"
   ]
  },
  {
   "cell_type": "code",
   "execution_count": 6,
   "metadata": {},
   "outputs": [],
   "source": [
    "tr_data_folder_name = 'to_train'\n",
    "temp_folder_name = '__temp__'\n",
    "model_folder_name = 'model'\n",
    "app_dir = Path(os.getcwd()) / 'app'"
   ]
  },
  {
   "cell_type": "code",
   "execution_count": 7,
   "metadata": {
    "executionInfo": {
     "elapsed": 1848,
     "status": "ok",
     "timestamp": 1607800470957,
     "user": {
      "displayName": "Utkarsh Jain",
      "photoUrl": "https://lh3.googleusercontent.com/-gplhvKJjZdQ/AAAAAAAAAAI/AAAAAAAAEhA/cT_zmta4k_Q/s64/photo.jpg",
      "userId": "09628245901381158092"
     },
     "user_tz": -330
    },
    "id": "HG37Edqx8H4m"
   },
   "outputs": [],
   "source": [
    "data_path = Path('app/data')\n",
    "zips = os.listdir(data_path / tr_data_folder_name)"
   ]
  },
  {
   "cell_type": "code",
   "execution_count": 8,
   "metadata": {
    "executionInfo": {
     "elapsed": 1561,
     "status": "ok",
     "timestamp": 1607800470960,
     "user": {
      "displayName": "Utkarsh Jain",
      "photoUrl": "https://lh3.googleusercontent.com/-gplhvKJjZdQ/AAAAAAAAAAI/AAAAAAAAEhA/cT_zmta4k_Q/s64/photo.jpg",
      "userId": "09628245901381158092"
     },
     "user_tz": -330
    },
    "id": "Z9wnw9AY8yML"
   },
   "outputs": [],
   "source": [
    "cats = [s.split('.')[0] for s in zips]"
   ]
  },
  {
   "cell_type": "code",
   "execution_count": 9,
   "metadata": {
    "executionInfo": {
     "elapsed": 149107,
     "status": "ok",
     "timestamp": 1607800619676,
     "user": {
      "displayName": "Utkarsh Jain",
      "photoUrl": "https://lh3.googleusercontent.com/-gplhvKJjZdQ/AAAAAAAAAAI/AAAAAAAAEhA/cT_zmta4k_Q/s64/photo.jpg",
      "userId": "09628245901381158092"
     },
     "user_tz": -330
    },
    "id": "gtywwUA3AZyF"
   },
   "outputs": [],
   "source": [
    "for cat in cats:\n",
    "    path = data_path / tr_data_folder_name / f'{cat}.zip'\n",
    "    with zipfile.ZipFile(path, 'r') as zip_ref:\n",
    "        zip_ref.extractall(data_path / temp_folder_name)"
   ]
  },
  {
   "cell_type": "code",
   "execution_count": 10,
   "metadata": {
    "executionInfo": {
     "elapsed": 145153,
     "status": "ok",
     "timestamp": 1607800619679,
     "user": {
      "displayName": "Utkarsh Jain",
      "photoUrl": "https://lh3.googleusercontent.com/-gplhvKJjZdQ/AAAAAAAAAAI/AAAAAAAAEhA/cT_zmta4k_Q/s64/photo.jpg",
      "userId": "09628245901381158092"
     },
     "user_tz": -330
    },
    "id": "ksMPjlqP9ydL"
   },
   "outputs": [],
   "source": [
    "cats_len = [len(os.listdir(data_path / temp_folder_name / cat)) for cat in cats]"
   ]
  },
  {
   "cell_type": "code",
   "execution_count": 11,
   "metadata": {
    "executionInfo": {
     "elapsed": 141475,
     "status": "ok",
     "timestamp": 1607800619681,
     "user": {
      "displayName": "Utkarsh Jain",
      "photoUrl": "https://lh3.googleusercontent.com/-gplhvKJjZdQ/AAAAAAAAAAI/AAAAAAAAEhA/cT_zmta4k_Q/s64/photo.jpg",
      "userId": "09628245901381158092"
     },
     "user_tz": -330
    },
    "id": "s_6INJOlILdg"
   },
   "outputs": [],
   "source": [
    "def remove_pattern(*patterns, text, group=0):\n",
    "    for pattern in patterns:\n",
    "        matches = pattern.finditer(text)\n",
    "        temp = ''\n",
    "        pos_prev = 0\n",
    "        pos_cur = 0\n",
    "        for match in matches:\n",
    "            pos_cur = match.span(group)[0]\n",
    "            temp += text[pos_prev: pos_cur]\n",
    "            temp += ' '\n",
    "            pos_prev = match.span(group)[1]\n",
    "        temp += text[pos_prev: ]\n",
    "        temp = temp.strip()\n",
    "        if temp != '':\n",
    "            text = temp\n",
    "    return text"
   ]
  },
  {
   "cell_type": "code",
   "execution_count": 12,
   "metadata": {
    "executionInfo": {
     "elapsed": 142994,
     "status": "ok",
     "timestamp": 1607800622152,
     "user": {
      "displayName": "Utkarsh Jain",
      "photoUrl": "https://lh3.googleusercontent.com/-gplhvKJjZdQ/AAAAAAAAAAI/AAAAAAAAEhA/cT_zmta4k_Q/s64/photo.jpg",
      "userId": "09628245901381158092"
     },
     "user_tz": -330
    },
    "id": "4hSxQ4Ch9CJh"
   },
   "outputs": [
    {
     "data": {
      "text/plain": [
       "(283, 2)"
      ]
     },
     "execution_count": 12,
     "metadata": {},
     "output_type": "execute_result"
    }
   ],
   "source": [
    "# patterns to be removed\n",
    "pattern1 = re.compile(r'From: .*')\n",
    "pattern2 = re.compile(r'Sent: .*')\n",
    "pattern3 = re.compile(r'To: .*')\n",
    "pattern4 = re.compile(r'[\\n\\r]')\n",
    "pattern5 = re.compile(r'\\d+')\n",
    "pattern6 = re.compile(r'\\S+@\\S+')\n",
    "pattern7 = re.compile(r'[!\"#$%&\\'()*+,-./:;<=>?@\\[\\\\\\]^_`{|}~]')\n",
    "patterns = [pattern1, pattern2, pattern3, pattern4, pattern5, pattern6, pattern7]\n",
    "pattern_a = re.compile(r'Cc: (.*)')\n",
    "\n",
    "# Creating pandas df storing x, y\n",
    "data = pd.DataFrame(columns=['message', 'cat'], index=range(sum(cats_len)))\n",
    "\n",
    "for i, cat in enumerate(cats):\n",
    "    files_path = data_path / temp_folder_name / cat\n",
    "    files = os.listdir(files_path)\n",
    "    for j in range(cats_len[i]):\n",
    "        n = sum(cats_len[: i]) + j\n",
    "        file_path = files_path / files[j]\n",
    "        msg = extract_msg.Message(file_path)\n",
    "        # msg_sender = msg.sender\n",
    "        # msg_date = msg.date\n",
    "        # msg_subj = msg.subject\n",
    "        msg_message = msg.body\n",
    "        msg_message = remove_pattern(*[pattern_a], text=msg_message, group=1)\n",
    "        msg_message = remove_pattern(*patterns, text=msg_message)\n",
    "        data.iloc[n] = msg_message, cat\n",
    "\n",
    "data = data.sample(frac=1, random_state=s1)\n",
    "data.shape"
   ]
  },
  {
   "cell_type": "code",
   "execution_count": 13,
   "metadata": {
    "colab": {
     "base_uri": "https://localhost:8080/",
     "height": 643
    },
    "executionInfo": {
     "elapsed": 1411,
     "status": "ok",
     "timestamp": 1607801115885,
     "user": {
      "displayName": "Utkarsh Jain",
      "photoUrl": "https://lh3.googleusercontent.com/-gplhvKJjZdQ/AAAAAAAAAAI/AAAAAAAAEhA/cT_zmta4k_Q/s64/photo.jpg",
      "userId": "09628245901381158092"
     },
     "user_tz": -330
    },
    "id": "FDHKm7lv_ENh",
    "outputId": "fa03326c-6047-4b01-bbe4-1b2c2a650791"
   },
   "outputs": [
    {
     "data": {
      "text/html": [
       "<div>\n",
       "<style scoped>\n",
       "    .dataframe tbody tr th:only-of-type {\n",
       "        vertical-align: middle;\n",
       "    }\n",
       "\n",
       "    .dataframe tbody tr th {\n",
       "        vertical-align: top;\n",
       "    }\n",
       "\n",
       "    .dataframe thead th {\n",
       "        text-align: right;\n",
       "    }\n",
       "</style>\n",
       "<table border=\"1\" class=\"dataframe\">\n",
       "  <thead>\n",
       "    <tr style=\"text-align: right;\">\n",
       "      <th></th>\n",
       "      <th>message</th>\n",
       "      <th>cat</th>\n",
       "    </tr>\n",
       "  </thead>\n",
       "  <tbody>\n",
       "    <tr>\n",
       "      <th>99</th>\n",
       "      <td>Subject  Re  Test Pension Fund     ABC   Thank...</td>\n",
       "      <td>Transfers</td>\n",
       "    </tr>\n",
       "    <tr>\n",
       "      <th>260</th>\n",
       "      <td>Subject  Thank you for your e mail to        D...</td>\n",
       "      <td>MDU</td>\n",
       "    </tr>\n",
       "    <tr>\n",
       "      <th>62</th>\n",
       "      <td>Subject  Re  Test Pension Scheme           Tes...</td>\n",
       "      <td>Retirements</td>\n",
       "    </tr>\n",
       "    <tr>\n",
       "      <th>102</th>\n",
       "      <td>Original Message             Subject   PRE IDE...</td>\n",
       "      <td>Transfers</td>\n",
       "    </tr>\n",
       "    <tr>\n",
       "      <th>259</th>\n",
       "      <td>Subject  Change of Adress     Pension referenc...</td>\n",
       "      <td>MDU</td>\n",
       "    </tr>\n",
       "    <tr>\n",
       "      <th>227</th>\n",
       "      <td>Subject  Re  LMNO Pension Plan    I have alrea...</td>\n",
       "      <td>MDU</td>\n",
       "    </tr>\n",
       "    <tr>\n",
       "      <th>89</th>\n",
       "      <td>Subject  Re  FW  Test Pensions Scheme     Hi y...</td>\n",
       "      <td>Retirements</td>\n",
       "    </tr>\n",
       "    <tr>\n",
       "      <th>132</th>\n",
       "      <td>Cc    Subject  ABC XYZ   TST    ZZ Z    Hi  FA...</td>\n",
       "      <td>Transfers</td>\n",
       "    </tr>\n",
       "    <tr>\n",
       "      <th>11</th>\n",
       "      <td>Subject  Test Group Pension Scheme    Address ...</td>\n",
       "      <td>Retirements</td>\n",
       "    </tr>\n",
       "    <tr>\n",
       "      <th>186</th>\n",
       "      <td>Cc    Subject  Mr ABC Ref   TST     Dear Test ...</td>\n",
       "      <td>Transfers</td>\n",
       "    </tr>\n",
       "    <tr>\n",
       "      <th>134</th>\n",
       "      <td>Subject  Mrs ABC XYZ TST      As per your lett...</td>\n",
       "      <td>Transfers</td>\n",
       "    </tr>\n",
       "    <tr>\n",
       "      <th>158</th>\n",
       "      <td>Subject  ABC XYZ    I attach our client’s auth...</td>\n",
       "      <td>Transfers</td>\n",
       "    </tr>\n",
       "    <tr>\n",
       "      <th>90</th>\n",
       "      <td>Subject  Mr ABC XYZ Test ZZ Z  Importance  Hig...</td>\n",
       "      <td>Retirements</td>\n",
       "    </tr>\n",
       "    <tr>\n",
       "      <th>105</th>\n",
       "      <td>Subject  Urgent Information Request Our ID    ...</td>\n",
       "      <td>Transfers</td>\n",
       "    </tr>\n",
       "    <tr>\n",
       "      <th>154</th>\n",
       "      <td>Subject   URGENT  RE  DEFG   ZZ Z          Imp...</td>\n",
       "      <td>Transfers</td>\n",
       "    </tr>\n",
       "    <tr>\n",
       "      <th>119</th>\n",
       "      <td>Cc    Subject  RE  Test Pension Scheme  ABC XY...</td>\n",
       "      <td>Transfers</td>\n",
       "    </tr>\n",
       "    <tr>\n",
       "      <th>249</th>\n",
       "      <td>Subject  surname error    Member Ref    Dep Se...</td>\n",
       "      <td>MDU</td>\n",
       "    </tr>\n",
       "    <tr>\n",
       "      <th>12</th>\n",
       "      <td>Subject  Questions to Test   re send    DOB   ...</td>\n",
       "      <td>Retirements</td>\n",
       "    </tr>\n",
       "    <tr>\n",
       "      <th>18</th>\n",
       "      <td>Subject  Burger Fries  FIN     retirement quot...</td>\n",
       "      <td>Retirements</td>\n",
       "    </tr>\n",
       "    <tr>\n",
       "      <th>280</th>\n",
       "      <td>Original Message             Subject  ABC XYZ ...</td>\n",
       "      <td>MDU</td>\n",
       "    </tr>\n",
       "  </tbody>\n",
       "</table>\n",
       "</div>"
      ],
      "text/plain": [
       "                                               message          cat\n",
       "99   Subject  Re  Test Pension Fund     ABC   Thank...    Transfers\n",
       "260  Subject  Thank you for your e mail to        D...          MDU\n",
       "62   Subject  Re  Test Pension Scheme           Tes...  Retirements\n",
       "102  Original Message             Subject   PRE IDE...    Transfers\n",
       "259  Subject  Change of Adress     Pension referenc...          MDU\n",
       "227  Subject  Re  LMNO Pension Plan    I have alrea...          MDU\n",
       "89   Subject  Re  FW  Test Pensions Scheme     Hi y...  Retirements\n",
       "132  Cc    Subject  ABC XYZ   TST    ZZ Z    Hi  FA...    Transfers\n",
       "11   Subject  Test Group Pension Scheme    Address ...  Retirements\n",
       "186  Cc    Subject  Mr ABC Ref   TST     Dear Test ...    Transfers\n",
       "134  Subject  Mrs ABC XYZ TST      As per your lett...    Transfers\n",
       "158  Subject  ABC XYZ    I attach our client’s auth...    Transfers\n",
       "90   Subject  Mr ABC XYZ Test ZZ Z  Importance  Hig...  Retirements\n",
       "105  Subject  Urgent Information Request Our ID    ...    Transfers\n",
       "154  Subject   URGENT  RE  DEFG   ZZ Z          Imp...    Transfers\n",
       "119  Cc    Subject  RE  Test Pension Scheme  ABC XY...    Transfers\n",
       "249  Subject  surname error    Member Ref    Dep Se...          MDU\n",
       "12   Subject  Questions to Test   re send    DOB   ...  Retirements\n",
       "18   Subject  Burger Fries  FIN     retirement quot...  Retirements\n",
       "280  Original Message             Subject  ABC XYZ ...          MDU"
      ]
     },
     "execution_count": 13,
     "metadata": {},
     "output_type": "execute_result"
    }
   ],
   "source": [
    "data.head(20)"
   ]
  },
  {
   "cell_type": "code",
   "execution_count": 14,
   "metadata": {
    "executionInfo": {
     "elapsed": 1433,
     "status": "ok",
     "timestamp": 1607801142252,
     "user": {
      "displayName": "Utkarsh Jain",
      "photoUrl": "https://lh3.googleusercontent.com/-gplhvKJjZdQ/AAAAAAAAAAI/AAAAAAAAEhA/cT_zmta4k_Q/s64/photo.jpg",
      "userId": "09628245901381158092"
     },
     "user_tz": -330
    },
    "id": "bhJKpHA0XkNg"
   },
   "outputs": [],
   "source": [
    "text = list(data['message']) \n",
    "label = list(data['cat'])"
   ]
  },
  {
   "cell_type": "code",
   "execution_count": 15,
   "metadata": {},
   "outputs": [],
   "source": [
    "x_train_text, y_train_label = text, label"
   ]
  },
  {
   "cell_type": "code",
   "execution_count": 15,
   "metadata": {
    "colab": {
     "base_uri": "https://localhost:8080/"
    },
    "executionInfo": {
     "elapsed": 1232,
     "status": "ok",
     "timestamp": 1607801142255,
     "user": {
      "displayName": "Utkarsh Jain",
      "photoUrl": "https://lh3.googleusercontent.com/-gplhvKJjZdQ/AAAAAAAAAAI/AAAAAAAAEhA/cT_zmta4k_Q/s64/photo.jpg",
      "userId": "09628245901381158092"
     },
     "user_tz": -330
    },
    "id": "mylHXfeSXkNi",
    "outputId": "ea6e5ef4-5090-43f0-9573-9c810b3a0c75"
   },
   "outputs": [
    {
     "name": "stdout",
     "output_type": "stream",
     "text": [
      "Training utterances: 240\n",
      "Validation utterances: 43\n"
     ]
    }
   ],
   "source": [
    "# x_train_text, x_test_text, y_train_label, y_test_label = train_test_split(text, label, test_size=0.15,\n",
    "#                                                                           stratify=label, random_state=s1)\n",
    "# print('Training utterances: {}'.format(len(x_train_text)))\n",
    "# print('Validation utterances: {}'.format(len(x_test_text)))"
   ]
  },
  {
   "cell_type": "code",
   "execution_count": 16,
   "metadata": {
    "colab": {
     "base_uri": "https://localhost:8080/"
    },
    "executionInfo": {
     "elapsed": 1092,
     "status": "ok",
     "timestamp": 1607801144523,
     "user": {
      "displayName": "Utkarsh Jain",
      "photoUrl": "https://lh3.googleusercontent.com/-gplhvKJjZdQ/AAAAAAAAAAI/AAAAAAAAEhA/cT_zmta4k_Q/s64/photo.jpg",
      "userId": "09628245901381158092"
     },
     "user_tz": -330
    },
    "id": "--p50ZRDXkNk",
    "outputId": "7e25ccba-ad07-4d11-a9a1-e21e85078e45"
   },
   "outputs": [
    {
     "name": "stdout",
     "output_type": "stream",
     "text": [
      "[2, 0, 1, 2, 0, 0, 1, 2, 1, 2, 2, 2, 1, 2, 2, 2, 0, 1, 1, 0, 2, 1, 2, 2, 2, 0, 2, 2, 0, 0, 1, 2, 2, 0, 0, 1, 1, 2, 1, 0, 0, 0, 1, 0, 2, 1, 1, 1, 2, 1, 2, 0, 1, 1, 2, 0, 1, 1, 2, 1, 1, 2, 2, 2, 1, 2, 0, 1, 1, 2, 0, 1, 2, 2, 0, 0, 0, 2, 0, 2, 1, 0, 0, 1, 2, 1, 2, 0, 2, 1, 0, 2, 2, 1, 1, 2, 1, 2, 1, 1, 1, 0, 2, 0, 1, 0, 1, 1, 0, 2, 1, 0, 2, 1, 2, 0, 1, 2, 1, 1, 2, 0, 1, 1, 2, 1, 0, 2, 0, 0, 2, 0, 2, 1, 1, 2, 2, 1, 0, 2, 0, 2, 2, 0, 0, 1, 0, 0, 2, 2, 2, 2, 2, 2, 0, 1, 0, 1, 1, 2, 0, 2, 2, 0, 0, 1, 2, 0, 0, 1, 1, 0, 1, 2, 2, 1, 0, 1, 0, 2, 1, 0, 0, 0, 0, 1, 0, 1, 2, 0, 1, 2, 1, 2, 2, 2, 1, 2, 1, 1, 0, 0, 1, 2, 0, 1, 2, 1, 2, 2, 1, 0, 2, 2, 2, 2, 1, 2, 0, 1, 0, 2, 2, 0, 2, 0, 0, 2, 1, 0, 1, 1, 0, 1, 0, 2, 1, 1, 1, 1, 1, 0, 1, 0, 1, 1, 1, 2, 0, 2, 0, 1, 0, 2, 0, 2, 2, 0, 0, 0, 1, 1, 1, 2, 1, 0, 0, 1, 1, 2, 0, 0, 2, 0, 1, 2, 2, 2, 0, 0, 1, 0, 1]\n"
     ]
    }
   ],
   "source": [
    "le = LabelEncoder()\n",
    "y_train_enc = list(le.fit_transform(y_train_label))\n",
    "# y_test_enc = list(le.transform(y_test_label)) \n",
    "print(y_train_enc)\n",
    "# print(test_labels_enc)"
   ]
  },
  {
   "cell_type": "code",
   "execution_count": 17,
   "metadata": {},
   "outputs": [],
   "source": [
    "# import pickle\n",
    "# pickle.dump(le, open(data_path / 'le' / 'le.pickle', 'wb'))"
   ]
  },
  {
   "cell_type": "code",
   "execution_count": 18,
   "metadata": {
    "colab": {
     "base_uri": "https://localhost:8080/"
    },
    "executionInfo": {
     "elapsed": 945,
     "status": "ok",
     "timestamp": 1607801145938,
     "user": {
      "displayName": "Utkarsh Jain",
      "photoUrl": "https://lh3.googleusercontent.com/-gplhvKJjZdQ/AAAAAAAAAAI/AAAAAAAAEhA/cT_zmta4k_Q/s64/photo.jpg",
      "userId": "09628245901381158092"
     },
     "user_tz": -330
    },
    "id": "FQNV1rJIXkNm",
    "outputId": "9484785d-587f-4da5-e876-0be72931f19b"
   },
   "outputs": [
    {
     "data": {
      "text/plain": [
       "3"
      ]
     },
     "execution_count": 18,
     "metadata": {},
     "output_type": "execute_result"
    }
   ],
   "source": [
    "from collections import Counter\n",
    "num_classes = len(Counter(y_train_enc))\n",
    "num_classes"
   ]
  },
  {
   "cell_type": "markdown",
   "metadata": {
    "id": "QDrAJxi-hd8O"
   },
   "source": [
    "## Modelling"
   ]
  },
  {
   "cell_type": "code",
   "execution_count": 19,
   "metadata": {
    "colab": {
     "base_uri": "https://localhost:8080/"
    },
    "executionInfo": {
     "elapsed": 12554,
     "status": "ok",
     "timestamp": 1607801162080,
     "user": {
      "displayName": "Utkarsh Jain",
      "photoUrl": "https://lh3.googleusercontent.com/-gplhvKJjZdQ/AAAAAAAAAAI/AAAAAAAAEhA/cT_zmta4k_Q/s64/photo.jpg",
      "userId": "09628245901381158092"
     },
     "user_tz": -330
    },
    "id": "mR7DAPTIkfb0",
    "outputId": "5885ca35-91c7-46cf-8563-2bdbdc5ac368"
   },
   "outputs": [],
   "source": [
    "# !python -c \"from transformers import pipeline; print(pipeline('sentiment-analysis')('I hate you'))\""
   ]
  },
  {
   "cell_type": "code",
   "execution_count": 20,
   "metadata": {
    "executionInfo": {
     "elapsed": 2961,
     "status": "ok",
     "timestamp": 1607801168326,
     "user": {
      "displayName": "Utkarsh Jain",
      "photoUrl": "https://lh3.googleusercontent.com/-gplhvKJjZdQ/AAAAAAAAAAI/AAAAAAAAEhA/cT_zmta4k_Q/s64/photo.jpg",
      "userId": "09628245901381158092"
     },
     "user_tz": -330
    },
    "id": "hJqaHxkkMYU5"
   },
   "outputs": [],
   "source": [
    "from tensorflow.keras.layers import Input, Dropout, Dense\n",
    "from tensorflow.keras.models import Model\n",
    "from tensorflow.keras.optimizers import Adam\n",
    "from tensorflow.keras.losses import CategoricalCrossentropy\n",
    "from tensorflow.keras.metrics import CategoricalAccuracy\n",
    "from tensorflow.keras.initializers import TruncatedNormal\n",
    "from tensorflow.keras.utils import to_categorical\n",
    "from tensorflow.keras.callbacks import ModelCheckpoint\n",
    "import tensorflow as tf"
   ]
  },
  {
   "cell_type": "code",
   "execution_count": 21,
   "metadata": {
    "colab": {
     "base_uri": "https://localhost:8080/"
    },
    "executionInfo": {
     "elapsed": 981,
     "status": "ok",
     "timestamp": 1607801168981,
     "user": {
      "displayName": "Utkarsh Jain",
      "photoUrl": "https://lh3.googleusercontent.com/-gplhvKJjZdQ/AAAAAAAAAAI/AAAAAAAAEhA/cT_zmta4k_Q/s64/photo.jpg",
      "userId": "09628245901381158092"
     },
     "user_tz": -330
    },
    "id": "l5f2azRZBo8q",
    "outputId": "ffe5e691-1ba4-4351-ad5b-64737dd56434"
   },
   "outputs": [
    {
     "data": {
      "text/plain": [
       "438"
      ]
     },
     "execution_count": 21,
     "metadata": {},
     "output_type": "execute_result"
    }
   ],
   "source": [
    "mean = np.mean([len(text.split()) for text in x_train_text])\n",
    "std = np.std([len(text.split()) for text in x_train_text])\n",
    "max_length = int(std + mean)\n",
    "max_length"
   ]
  },
  {
   "cell_type": "code",
   "execution_count": 22,
   "metadata": {},
   "outputs": [],
   "source": [
    "# import pickle\n",
    "# pickle.dump(max_length, open(data_path / 'max_length' / 'max_length.pickle', 'wb'))"
   ]
  },
  {
   "cell_type": "markdown",
   "metadata": {
    "id": "SaQ6xa_eHl3e"
   },
   "source": [
    "### BERT"
   ]
  },
  {
   "cell_type": "code",
   "execution_count": 24,
   "metadata": {
    "id": "5nBxbiz0HqpB"
   },
   "outputs": [],
   "source": [
    "from transformers import TFBertModel, BertConfig, BertTokenizerFast"
   ]
  },
  {
   "cell_type": "code",
   "execution_count": 26,
   "metadata": {
    "colab": {
     "base_uri": "https://localhost:8080/"
    },
    "executionInfo": {
     "elapsed": 3115,
     "status": "ok",
     "timestamp": 1605988554963,
     "user": {
      "displayName": "Utkarsh Jain",
      "photoUrl": "https://lh3.googleusercontent.com/-gplhvKJjZdQ/AAAAAAAAAAI/AAAAAAAAEhA/cT_zmta4k_Q/s64/photo.jpg",
      "userId": "09628245901381158092"
     },
     "user_tz": -330
    },
    "id": "FhulHqvrFflG",
    "outputId": "7b852941-58cc-48fc-ba70-7a35ebf4ab41"
   },
   "outputs": [],
   "source": [
    "# Name of the BERT model to use\n",
    "model_name = 'bert-base-uncased'\n",
    "\n",
    "# Max length of tokens\n",
    "max_length = 400\n",
    "\n",
    "# Load transformers config and set output_hidden_states to False\n",
    "config = BertConfig.from_pretrained(model_name)\n",
    "config.output_hidden_states = False\n",
    "config.num_labels = num_classes\n",
    "\n",
    "# Load BERT tokenizer\n",
    "tokenizer = BertTokenizerFast.from_pretrained(pretrained_model_name_or_path=model_name, config=config)\n",
    "\n",
    "# Load the Transformers BERT model\n",
    "bert_model = TFBertModel.from_pretrained(model_name, config=config)"
   ]
  },
  {
   "cell_type": "code",
   "execution_count": null,
   "metadata": {
    "id": "1mEFGJc4z2oj"
   },
   "outputs": [],
   "source": [
    "# Prepare input data\n",
    "# Tokenize texts \n",
    "def tokenize(text):\n",
    "    tokenized = tokenizer(text,\n",
    "                          max_length=max_length,\n",
    "                          padding=True,\n",
    "                          truncation=True,\n",
    "                          return_tensors='tf',\n",
    "                          return_token_type_ids=False,\n",
    "                          return_attention_mask=False,\n",
    "                          verbose=True)\n",
    "    return tokenized\n",
    "\n",
    "x_train_enc = tokenize(x_train_text)\n",
    "x_test_enc = tokenize(x_test_text)\n",
    "\n",
    "y_train_enc_one_hot = to_categorical(y_train_enc, num_classes=num_classes)\n",
    "y_test_enc_one_hot = to_categorical(y_test_enc, num_classes=num_classes)"
   ]
  },
  {
   "cell_type": "code",
   "execution_count": null,
   "metadata": {
    "colab": {
     "base_uri": "https://localhost:8080/",
     "height": 138
    },
    "executionInfo": {
     "elapsed": 1279,
     "status": "error",
     "timestamp": 1605988578477,
     "user": {
      "displayName": "Utkarsh Jain",
      "photoUrl": "https://lh3.googleusercontent.com/-gplhvKJjZdQ/AAAAAAAAAAI/AAAAAAAAEhA/cT_zmta4k_Q/s64/photo.jpg",
      "userId": "09628245901381158092"
     },
     "user_tz": -330
    },
    "id": "cYExdzd1Do96",
    "outputId": "3065ba26-3826-4393-9661-f9de1d4df238"
   },
   "outputs": [],
   "source": [
    "# Load the MainLayer\n",
    "bert = bert_model.layers[0]\n",
    "\n",
    "# Build model input\n",
    "input_ids = Input(shape=(max_length,), name='input_ids', dtype='int32')\n",
    "inputs = {'input_ids': input_ids}\n",
    "\n",
    "# Load the Transformers BERT model as a layer in a Keras model\n",
    "bert_output = bert(inputs)[1]\n",
    "dropout = Dropout(config.hidden_dropout_prob, name='pooled_output')\n",
    "pooled_output = dropout(bert_output, training=False) # True or False?\n",
    "\n",
    "# Then build model's output layer\n",
    "logits = Dense(units=config.num_labels, kernel_initializer=TruncatedNormal(stddev=config.initializer_range), name='logits')(pooled_output)\n",
    "# outputs = {'logits': logits}\n",
    "\n",
    "# And combine it all in a model object\n",
    "model = Model(inputs=inputs, outputs=logits, name='Complaint_Classifier')\n",
    "\n",
    "# Take a look at the model\n",
    "model.summary()"
   ]
  },
  {
   "cell_type": "code",
   "execution_count": null,
   "metadata": {
    "colab": {
     "base_uri": "https://localhost:8080/",
     "height": 1000
    },
    "executionInfo": {
     "elapsed": 4025,
     "status": "error",
     "timestamp": 1605988602791,
     "user": {
      "displayName": "Utkarsh Jain",
      "photoUrl": "https://lh3.googleusercontent.com/-gplhvKJjZdQ/AAAAAAAAAAI/AAAAAAAAEhA/cT_zmta4k_Q/s64/photo.jpg",
      "userId": "09628245901381158092"
     },
     "user_tz": -330
    },
    "id": "rK_6FB0LF_rt",
    "outputId": "492e0427-9ca1-4d14-b6e8-3ef628c1d306"
   },
   "outputs": [
    {
     "name": "stdout",
     "output_type": "stream",
     "text": [
      "Epoch 1/2\n"
     ]
    },
    {
     "ename": "ValueError",
     "evalue": "ignored",
     "output_type": "error",
     "traceback": [
      "\u001b[0;31m---------------------------------------------------------------------------\u001b[0m",
      "\u001b[0;31mValueError\u001b[0m                                Traceback (most recent call last)",
      "\u001b[0;32m<ipython-input-89-40e3323e7fd5>\u001b[0m in \u001b[0;36m<module>\u001b[0;34m()\u001b[0m\n\u001b[1;32m     24\u001b[0m     \u001b[0mvalidation_data\u001b[0m\u001b[0;34m=\u001b[0m\u001b[0;34m(\u001b[0m\u001b[0;34m{\u001b[0m\u001b[0;34m'input_ids'\u001b[0m\u001b[0;34m:\u001b[0m \u001b[0mx_test_enc\u001b[0m\u001b[0;34m[\u001b[0m\u001b[0;34m'input_ids'\u001b[0m\u001b[0;34m]\u001b[0m\u001b[0;34m}\u001b[0m\u001b[0;34m,\u001b[0m \u001b[0my_test_enc_one_hot\u001b[0m\u001b[0;34m)\u001b[0m\u001b[0;34m,\u001b[0m\u001b[0;34m\u001b[0m\u001b[0;34m\u001b[0m\u001b[0m\n\u001b[1;32m     25\u001b[0m     \u001b[0mbatch_size\u001b[0m\u001b[0;34m=\u001b[0m\u001b[0;36m16\u001b[0m\u001b[0;34m,\u001b[0m\u001b[0;34m\u001b[0m\u001b[0;34m\u001b[0m\u001b[0m\n\u001b[0;32m---> 26\u001b[0;31m     epochs=2)\n\u001b[0m",
      "\u001b[0;32m/usr/local/lib/python3.6/dist-packages/tensorflow/python/keras/engine/training.py\u001b[0m in \u001b[0;36m_method_wrapper\u001b[0;34m(self, *args, **kwargs)\u001b[0m\n\u001b[1;32m    106\u001b[0m   \u001b[0;32mdef\u001b[0m \u001b[0m_method_wrapper\u001b[0m\u001b[0;34m(\u001b[0m\u001b[0mself\u001b[0m\u001b[0;34m,\u001b[0m \u001b[0;34m*\u001b[0m\u001b[0margs\u001b[0m\u001b[0;34m,\u001b[0m \u001b[0;34m**\u001b[0m\u001b[0mkwargs\u001b[0m\u001b[0;34m)\u001b[0m\u001b[0;34m:\u001b[0m\u001b[0;34m\u001b[0m\u001b[0;34m\u001b[0m\u001b[0m\n\u001b[1;32m    107\u001b[0m     \u001b[0;32mif\u001b[0m \u001b[0;32mnot\u001b[0m \u001b[0mself\u001b[0m\u001b[0;34m.\u001b[0m\u001b[0m_in_multi_worker_mode\u001b[0m\u001b[0;34m(\u001b[0m\u001b[0;34m)\u001b[0m\u001b[0;34m:\u001b[0m  \u001b[0;31m# pylint: disable=protected-access\u001b[0m\u001b[0;34m\u001b[0m\u001b[0;34m\u001b[0m\u001b[0m\n\u001b[0;32m--> 108\u001b[0;31m       \u001b[0;32mreturn\u001b[0m \u001b[0mmethod\u001b[0m\u001b[0;34m(\u001b[0m\u001b[0mself\u001b[0m\u001b[0;34m,\u001b[0m \u001b[0;34m*\u001b[0m\u001b[0margs\u001b[0m\u001b[0;34m,\u001b[0m \u001b[0;34m**\u001b[0m\u001b[0mkwargs\u001b[0m\u001b[0;34m)\u001b[0m\u001b[0;34m\u001b[0m\u001b[0;34m\u001b[0m\u001b[0m\n\u001b[0m\u001b[1;32m    109\u001b[0m \u001b[0;34m\u001b[0m\u001b[0m\n\u001b[1;32m    110\u001b[0m     \u001b[0;31m# Running inside `run_distribute_coordinator` already.\u001b[0m\u001b[0;34m\u001b[0m\u001b[0;34m\u001b[0m\u001b[0;34m\u001b[0m\u001b[0m\n",
      "\u001b[0;32m/usr/local/lib/python3.6/dist-packages/tensorflow/python/keras/engine/training.py\u001b[0m in \u001b[0;36mfit\u001b[0;34m(self, x, y, batch_size, epochs, verbose, callbacks, validation_split, validation_data, shuffle, class_weight, sample_weight, initial_epoch, steps_per_epoch, validation_steps, validation_batch_size, validation_freq, max_queue_size, workers, use_multiprocessing)\u001b[0m\n\u001b[1;32m   1096\u001b[0m                 batch_size=batch_size):\n\u001b[1;32m   1097\u001b[0m               \u001b[0mcallbacks\u001b[0m\u001b[0;34m.\u001b[0m\u001b[0mon_train_batch_begin\u001b[0m\u001b[0;34m(\u001b[0m\u001b[0mstep\u001b[0m\u001b[0;34m)\u001b[0m\u001b[0;34m\u001b[0m\u001b[0;34m\u001b[0m\u001b[0m\n\u001b[0;32m-> 1098\u001b[0;31m               \u001b[0mtmp_logs\u001b[0m \u001b[0;34m=\u001b[0m \u001b[0mtrain_function\u001b[0m\u001b[0;34m(\u001b[0m\u001b[0miterator\u001b[0m\u001b[0;34m)\u001b[0m\u001b[0;34m\u001b[0m\u001b[0;34m\u001b[0m\u001b[0m\n\u001b[0m\u001b[1;32m   1099\u001b[0m               \u001b[0;32mif\u001b[0m \u001b[0mdata_handler\u001b[0m\u001b[0;34m.\u001b[0m\u001b[0mshould_sync\u001b[0m\u001b[0;34m:\u001b[0m\u001b[0;34m\u001b[0m\u001b[0;34m\u001b[0m\u001b[0m\n\u001b[1;32m   1100\u001b[0m                 \u001b[0mcontext\u001b[0m\u001b[0;34m.\u001b[0m\u001b[0masync_wait\u001b[0m\u001b[0;34m(\u001b[0m\u001b[0;34m)\u001b[0m\u001b[0;34m\u001b[0m\u001b[0;34m\u001b[0m\u001b[0m\n",
      "\u001b[0;32m/usr/local/lib/python3.6/dist-packages/tensorflow/python/eager/def_function.py\u001b[0m in \u001b[0;36m__call__\u001b[0;34m(self, *args, **kwds)\u001b[0m\n\u001b[1;32m    778\u001b[0m       \u001b[0;32melse\u001b[0m\u001b[0;34m:\u001b[0m\u001b[0;34m\u001b[0m\u001b[0;34m\u001b[0m\u001b[0m\n\u001b[1;32m    779\u001b[0m         \u001b[0mcompiler\u001b[0m \u001b[0;34m=\u001b[0m \u001b[0;34m\"nonXla\"\u001b[0m\u001b[0;34m\u001b[0m\u001b[0;34m\u001b[0m\u001b[0m\n\u001b[0;32m--> 780\u001b[0;31m         \u001b[0mresult\u001b[0m \u001b[0;34m=\u001b[0m \u001b[0mself\u001b[0m\u001b[0;34m.\u001b[0m\u001b[0m_call\u001b[0m\u001b[0;34m(\u001b[0m\u001b[0;34m*\u001b[0m\u001b[0margs\u001b[0m\u001b[0;34m,\u001b[0m \u001b[0;34m**\u001b[0m\u001b[0mkwds\u001b[0m\u001b[0;34m)\u001b[0m\u001b[0;34m\u001b[0m\u001b[0;34m\u001b[0m\u001b[0m\n\u001b[0m\u001b[1;32m    781\u001b[0m \u001b[0;34m\u001b[0m\u001b[0m\n\u001b[1;32m    782\u001b[0m       \u001b[0mnew_tracing_count\u001b[0m \u001b[0;34m=\u001b[0m \u001b[0mself\u001b[0m\u001b[0;34m.\u001b[0m\u001b[0m_get_tracing_count\u001b[0m\u001b[0;34m(\u001b[0m\u001b[0;34m)\u001b[0m\u001b[0;34m\u001b[0m\u001b[0;34m\u001b[0m\u001b[0m\n",
      "\u001b[0;32m/usr/local/lib/python3.6/dist-packages/tensorflow/python/eager/def_function.py\u001b[0m in \u001b[0;36m_call\u001b[0;34m(self, *args, **kwds)\u001b[0m\n\u001b[1;32m    821\u001b[0m       \u001b[0;31m# This is the first call of __call__, so we have to initialize.\u001b[0m\u001b[0;34m\u001b[0m\u001b[0;34m\u001b[0m\u001b[0;34m\u001b[0m\u001b[0m\n\u001b[1;32m    822\u001b[0m       \u001b[0minitializers\u001b[0m \u001b[0;34m=\u001b[0m \u001b[0;34m[\u001b[0m\u001b[0;34m]\u001b[0m\u001b[0;34m\u001b[0m\u001b[0;34m\u001b[0m\u001b[0m\n\u001b[0;32m--> 823\u001b[0;31m       \u001b[0mself\u001b[0m\u001b[0;34m.\u001b[0m\u001b[0m_initialize\u001b[0m\u001b[0;34m(\u001b[0m\u001b[0margs\u001b[0m\u001b[0;34m,\u001b[0m \u001b[0mkwds\u001b[0m\u001b[0;34m,\u001b[0m \u001b[0madd_initializers_to\u001b[0m\u001b[0;34m=\u001b[0m\u001b[0minitializers\u001b[0m\u001b[0;34m)\u001b[0m\u001b[0;34m\u001b[0m\u001b[0;34m\u001b[0m\u001b[0m\n\u001b[0m\u001b[1;32m    824\u001b[0m     \u001b[0;32mfinally\u001b[0m\u001b[0;34m:\u001b[0m\u001b[0;34m\u001b[0m\u001b[0;34m\u001b[0m\u001b[0m\n\u001b[1;32m    825\u001b[0m       \u001b[0;31m# At this point we know that the initialization is complete (or less\u001b[0m\u001b[0;34m\u001b[0m\u001b[0;34m\u001b[0m\u001b[0;34m\u001b[0m\u001b[0m\n",
      "\u001b[0;32m/usr/local/lib/python3.6/dist-packages/tensorflow/python/eager/def_function.py\u001b[0m in \u001b[0;36m_initialize\u001b[0;34m(self, args, kwds, add_initializers_to)\u001b[0m\n\u001b[1;32m    695\u001b[0m     self._concrete_stateful_fn = (\n\u001b[1;32m    696\u001b[0m         self._stateful_fn._get_concrete_function_internal_garbage_collected(  # pylint: disable=protected-access\n\u001b[0;32m--> 697\u001b[0;31m             *args, **kwds))\n\u001b[0m\u001b[1;32m    698\u001b[0m \u001b[0;34m\u001b[0m\u001b[0m\n\u001b[1;32m    699\u001b[0m     \u001b[0;32mdef\u001b[0m \u001b[0minvalid_creator_scope\u001b[0m\u001b[0;34m(\u001b[0m\u001b[0;34m*\u001b[0m\u001b[0munused_args\u001b[0m\u001b[0;34m,\u001b[0m \u001b[0;34m**\u001b[0m\u001b[0munused_kwds\u001b[0m\u001b[0;34m)\u001b[0m\u001b[0;34m:\u001b[0m\u001b[0;34m\u001b[0m\u001b[0;34m\u001b[0m\u001b[0m\n",
      "\u001b[0;32m/usr/local/lib/python3.6/dist-packages/tensorflow/python/eager/function.py\u001b[0m in \u001b[0;36m_get_concrete_function_internal_garbage_collected\u001b[0;34m(self, *args, **kwargs)\u001b[0m\n\u001b[1;32m   2853\u001b[0m       \u001b[0margs\u001b[0m\u001b[0;34m,\u001b[0m \u001b[0mkwargs\u001b[0m \u001b[0;34m=\u001b[0m \u001b[0;32mNone\u001b[0m\u001b[0;34m,\u001b[0m \u001b[0;32mNone\u001b[0m\u001b[0;34m\u001b[0m\u001b[0;34m\u001b[0m\u001b[0m\n\u001b[1;32m   2854\u001b[0m     \u001b[0;32mwith\u001b[0m \u001b[0mself\u001b[0m\u001b[0;34m.\u001b[0m\u001b[0m_lock\u001b[0m\u001b[0;34m:\u001b[0m\u001b[0;34m\u001b[0m\u001b[0;34m\u001b[0m\u001b[0m\n\u001b[0;32m-> 2855\u001b[0;31m       \u001b[0mgraph_function\u001b[0m\u001b[0;34m,\u001b[0m \u001b[0m_\u001b[0m\u001b[0;34m,\u001b[0m \u001b[0m_\u001b[0m \u001b[0;34m=\u001b[0m \u001b[0mself\u001b[0m\u001b[0;34m.\u001b[0m\u001b[0m_maybe_define_function\u001b[0m\u001b[0;34m(\u001b[0m\u001b[0margs\u001b[0m\u001b[0;34m,\u001b[0m \u001b[0mkwargs\u001b[0m\u001b[0;34m)\u001b[0m\u001b[0;34m\u001b[0m\u001b[0;34m\u001b[0m\u001b[0m\n\u001b[0m\u001b[1;32m   2856\u001b[0m     \u001b[0;32mreturn\u001b[0m \u001b[0mgraph_function\u001b[0m\u001b[0;34m\u001b[0m\u001b[0;34m\u001b[0m\u001b[0m\n\u001b[1;32m   2857\u001b[0m \u001b[0;34m\u001b[0m\u001b[0m\n",
      "\u001b[0;32m/usr/local/lib/python3.6/dist-packages/tensorflow/python/eager/function.py\u001b[0m in \u001b[0;36m_maybe_define_function\u001b[0;34m(self, args, kwargs)\u001b[0m\n\u001b[1;32m   3211\u001b[0m \u001b[0;34m\u001b[0m\u001b[0m\n\u001b[1;32m   3212\u001b[0m       \u001b[0mself\u001b[0m\u001b[0;34m.\u001b[0m\u001b[0m_function_cache\u001b[0m\u001b[0;34m.\u001b[0m\u001b[0mmissed\u001b[0m\u001b[0;34m.\u001b[0m\u001b[0madd\u001b[0m\u001b[0;34m(\u001b[0m\u001b[0mcall_context_key\u001b[0m\u001b[0;34m)\u001b[0m\u001b[0;34m\u001b[0m\u001b[0;34m\u001b[0m\u001b[0m\n\u001b[0;32m-> 3213\u001b[0;31m       \u001b[0mgraph_function\u001b[0m \u001b[0;34m=\u001b[0m \u001b[0mself\u001b[0m\u001b[0;34m.\u001b[0m\u001b[0m_create_graph_function\u001b[0m\u001b[0;34m(\u001b[0m\u001b[0margs\u001b[0m\u001b[0;34m,\u001b[0m \u001b[0mkwargs\u001b[0m\u001b[0;34m)\u001b[0m\u001b[0;34m\u001b[0m\u001b[0;34m\u001b[0m\u001b[0m\n\u001b[0m\u001b[1;32m   3214\u001b[0m       \u001b[0mself\u001b[0m\u001b[0;34m.\u001b[0m\u001b[0m_function_cache\u001b[0m\u001b[0;34m.\u001b[0m\u001b[0mprimary\u001b[0m\u001b[0;34m[\u001b[0m\u001b[0mcache_key\u001b[0m\u001b[0;34m]\u001b[0m \u001b[0;34m=\u001b[0m \u001b[0mgraph_function\u001b[0m\u001b[0;34m\u001b[0m\u001b[0;34m\u001b[0m\u001b[0m\n\u001b[1;32m   3215\u001b[0m       \u001b[0;32mreturn\u001b[0m \u001b[0mgraph_function\u001b[0m\u001b[0;34m,\u001b[0m \u001b[0margs\u001b[0m\u001b[0;34m,\u001b[0m \u001b[0mkwargs\u001b[0m\u001b[0;34m\u001b[0m\u001b[0;34m\u001b[0m\u001b[0m\n",
      "\u001b[0;32m/usr/local/lib/python3.6/dist-packages/tensorflow/python/eager/function.py\u001b[0m in \u001b[0;36m_create_graph_function\u001b[0;34m(self, args, kwargs, override_flat_arg_shapes)\u001b[0m\n\u001b[1;32m   3073\u001b[0m             \u001b[0marg_names\u001b[0m\u001b[0;34m=\u001b[0m\u001b[0marg_names\u001b[0m\u001b[0;34m,\u001b[0m\u001b[0;34m\u001b[0m\u001b[0;34m\u001b[0m\u001b[0m\n\u001b[1;32m   3074\u001b[0m             \u001b[0moverride_flat_arg_shapes\u001b[0m\u001b[0;34m=\u001b[0m\u001b[0moverride_flat_arg_shapes\u001b[0m\u001b[0;34m,\u001b[0m\u001b[0;34m\u001b[0m\u001b[0;34m\u001b[0m\u001b[0m\n\u001b[0;32m-> 3075\u001b[0;31m             capture_by_value=self._capture_by_value),\n\u001b[0m\u001b[1;32m   3076\u001b[0m         \u001b[0mself\u001b[0m\u001b[0;34m.\u001b[0m\u001b[0m_function_attributes\u001b[0m\u001b[0;34m,\u001b[0m\u001b[0;34m\u001b[0m\u001b[0;34m\u001b[0m\u001b[0m\n\u001b[1;32m   3077\u001b[0m         \u001b[0mfunction_spec\u001b[0m\u001b[0;34m=\u001b[0m\u001b[0mself\u001b[0m\u001b[0;34m.\u001b[0m\u001b[0mfunction_spec\u001b[0m\u001b[0;34m,\u001b[0m\u001b[0;34m\u001b[0m\u001b[0;34m\u001b[0m\u001b[0m\n",
      "\u001b[0;32m/usr/local/lib/python3.6/dist-packages/tensorflow/python/framework/func_graph.py\u001b[0m in \u001b[0;36mfunc_graph_from_py_func\u001b[0;34m(name, python_func, args, kwargs, signature, func_graph, autograph, autograph_options, add_control_dependencies, arg_names, op_return_value, collections, capture_by_value, override_flat_arg_shapes)\u001b[0m\n\u001b[1;32m    984\u001b[0m         \u001b[0m_\u001b[0m\u001b[0;34m,\u001b[0m \u001b[0moriginal_func\u001b[0m \u001b[0;34m=\u001b[0m \u001b[0mtf_decorator\u001b[0m\u001b[0;34m.\u001b[0m\u001b[0munwrap\u001b[0m\u001b[0;34m(\u001b[0m\u001b[0mpython_func\u001b[0m\u001b[0;34m)\u001b[0m\u001b[0;34m\u001b[0m\u001b[0;34m\u001b[0m\u001b[0m\n\u001b[1;32m    985\u001b[0m \u001b[0;34m\u001b[0m\u001b[0m\n\u001b[0;32m--> 986\u001b[0;31m       \u001b[0mfunc_outputs\u001b[0m \u001b[0;34m=\u001b[0m \u001b[0mpython_func\u001b[0m\u001b[0;34m(\u001b[0m\u001b[0;34m*\u001b[0m\u001b[0mfunc_args\u001b[0m\u001b[0;34m,\u001b[0m \u001b[0;34m**\u001b[0m\u001b[0mfunc_kwargs\u001b[0m\u001b[0;34m)\u001b[0m\u001b[0;34m\u001b[0m\u001b[0;34m\u001b[0m\u001b[0m\n\u001b[0m\u001b[1;32m    987\u001b[0m \u001b[0;34m\u001b[0m\u001b[0m\n\u001b[1;32m    988\u001b[0m       \u001b[0;31m# invariant: `func_outputs` contains only Tensors, CompositeTensors,\u001b[0m\u001b[0;34m\u001b[0m\u001b[0;34m\u001b[0m\u001b[0;34m\u001b[0m\u001b[0m\n",
      "\u001b[0;32m/usr/local/lib/python3.6/dist-packages/tensorflow/python/eager/def_function.py\u001b[0m in \u001b[0;36mwrapped_fn\u001b[0;34m(*args, **kwds)\u001b[0m\n\u001b[1;32m    598\u001b[0m         \u001b[0;31m# __wrapped__ allows AutoGraph to swap in a converted function. We give\u001b[0m\u001b[0;34m\u001b[0m\u001b[0;34m\u001b[0m\u001b[0;34m\u001b[0m\u001b[0m\n\u001b[1;32m    599\u001b[0m         \u001b[0;31m# the function a weak reference to itself to avoid a reference cycle.\u001b[0m\u001b[0;34m\u001b[0m\u001b[0;34m\u001b[0m\u001b[0;34m\u001b[0m\u001b[0m\n\u001b[0;32m--> 600\u001b[0;31m         \u001b[0;32mreturn\u001b[0m \u001b[0mweak_wrapped_fn\u001b[0m\u001b[0;34m(\u001b[0m\u001b[0;34m)\u001b[0m\u001b[0;34m.\u001b[0m\u001b[0m__wrapped__\u001b[0m\u001b[0;34m(\u001b[0m\u001b[0;34m*\u001b[0m\u001b[0margs\u001b[0m\u001b[0;34m,\u001b[0m \u001b[0;34m**\u001b[0m\u001b[0mkwds\u001b[0m\u001b[0;34m)\u001b[0m\u001b[0;34m\u001b[0m\u001b[0;34m\u001b[0m\u001b[0m\n\u001b[0m\u001b[1;32m    601\u001b[0m     \u001b[0mweak_wrapped_fn\u001b[0m \u001b[0;34m=\u001b[0m \u001b[0mweakref\u001b[0m\u001b[0;34m.\u001b[0m\u001b[0mref\u001b[0m\u001b[0;34m(\u001b[0m\u001b[0mwrapped_fn\u001b[0m\u001b[0;34m)\u001b[0m\u001b[0;34m\u001b[0m\u001b[0;34m\u001b[0m\u001b[0m\n\u001b[1;32m    602\u001b[0m \u001b[0;34m\u001b[0m\u001b[0m\n",
      "\u001b[0;32m/usr/local/lib/python3.6/dist-packages/tensorflow/python/framework/func_graph.py\u001b[0m in \u001b[0;36mwrapper\u001b[0;34m(*args, **kwargs)\u001b[0m\n\u001b[1;32m    971\u001b[0m           \u001b[0;32mexcept\u001b[0m \u001b[0mException\u001b[0m \u001b[0;32mas\u001b[0m \u001b[0me\u001b[0m\u001b[0;34m:\u001b[0m  \u001b[0;31m# pylint:disable=broad-except\u001b[0m\u001b[0;34m\u001b[0m\u001b[0;34m\u001b[0m\u001b[0m\n\u001b[1;32m    972\u001b[0m             \u001b[0;32mif\u001b[0m \u001b[0mhasattr\u001b[0m\u001b[0;34m(\u001b[0m\u001b[0me\u001b[0m\u001b[0;34m,\u001b[0m \u001b[0;34m\"ag_error_metadata\"\u001b[0m\u001b[0;34m)\u001b[0m\u001b[0;34m:\u001b[0m\u001b[0;34m\u001b[0m\u001b[0;34m\u001b[0m\u001b[0m\n\u001b[0;32m--> 973\u001b[0;31m               \u001b[0;32mraise\u001b[0m \u001b[0me\u001b[0m\u001b[0;34m.\u001b[0m\u001b[0mag_error_metadata\u001b[0m\u001b[0;34m.\u001b[0m\u001b[0mto_exception\u001b[0m\u001b[0;34m(\u001b[0m\u001b[0me\u001b[0m\u001b[0;34m)\u001b[0m\u001b[0;34m\u001b[0m\u001b[0;34m\u001b[0m\u001b[0m\n\u001b[0m\u001b[1;32m    974\u001b[0m             \u001b[0;32melse\u001b[0m\u001b[0;34m:\u001b[0m\u001b[0;34m\u001b[0m\u001b[0;34m\u001b[0m\u001b[0m\n\u001b[1;32m    975\u001b[0m               \u001b[0;32mraise\u001b[0m\u001b[0;34m\u001b[0m\u001b[0;34m\u001b[0m\u001b[0m\n",
      "\u001b[0;31mValueError\u001b[0m: in user code:\n\n    /usr/local/lib/python3.6/dist-packages/tensorflow/python/keras/engine/training.py:806 train_function  *\n        return step_function(self, iterator)\n    /usr/local/lib/python3.6/dist-packages/tensorflow/python/keras/engine/training.py:796 step_function  **\n        outputs = model.distribute_strategy.run(run_step, args=(data,))\n    /usr/local/lib/python3.6/dist-packages/tensorflow/python/distribute/distribute_lib.py:1211 run\n        return self._extended.call_for_each_replica(fn, args=args, kwargs=kwargs)\n    /usr/local/lib/python3.6/dist-packages/tensorflow/python/distribute/distribute_lib.py:2585 call_for_each_replica\n        return self._call_for_each_replica(fn, args, kwargs)\n    /usr/local/lib/python3.6/dist-packages/tensorflow/python/distribute/distribute_lib.py:2945 _call_for_each_replica\n        return fn(*args, **kwargs)\n    /usr/local/lib/python3.6/dist-packages/tensorflow/python/keras/engine/training.py:789 run_step  **\n        outputs = model.train_step(data)\n    /usr/local/lib/python3.6/dist-packages/tensorflow/python/keras/engine/training.py:749 train_step\n        y, y_pred, sample_weight, regularization_losses=self.losses)\n    /usr/local/lib/python3.6/dist-packages/tensorflow/python/keras/engine/compile_utils.py:204 __call__\n        loss_value = loss_obj(y_t, y_p, sample_weight=sw)\n    /usr/local/lib/python3.6/dist-packages/tensorflow/python/keras/losses.py:149 __call__\n        losses = ag_call(y_true, y_pred)\n    /usr/local/lib/python3.6/dist-packages/tensorflow/python/keras/losses.py:253 call  **\n        return ag_fn(y_true, y_pred, **self._fn_kwargs)\n    /usr/local/lib/python3.6/dist-packages/tensorflow/python/util/dispatch.py:201 wrapper\n        return target(*args, **kwargs)\n    /usr/local/lib/python3.6/dist-packages/tensorflow/python/keras/losses.py:1535 categorical_crossentropy\n        return K.categorical_crossentropy(y_true, y_pred, from_logits=from_logits)\n    /usr/local/lib/python3.6/dist-packages/tensorflow/python/util/dispatch.py:201 wrapper\n        return target(*args, **kwargs)\n    /usr/local/lib/python3.6/dist-packages/tensorflow/python/keras/backend.py:4687 categorical_crossentropy\n        target.shape.assert_is_compatible_with(output.shape)\n    /usr/local/lib/python3.6/dist-packages/tensorflow/python/framework/tensor_shape.py:1134 assert_is_compatible_with\n        raise ValueError(\"Shapes %s and %s are incompatible\" % (self, other))\n\n    ValueError: Shapes (None, 3) and (None, 400, 768) are incompatible\n"
     ]
    }
   ],
   "source": [
    "### ------- Train the model ------- ###\n",
    "# Set an optimizer\n",
    "optimizer = Adam(\n",
    "    learning_rate=5e-05,\n",
    "    epsilon=1e-08,\n",
    "    decay=0.01,\n",
    "    clipnorm=1.0)\n",
    "\n",
    "# Set loss and metrics\n",
    "loss = CategoricalCrossentropy(from_logits=True)\n",
    "metric = CategoricalAccuracy('accuracy')\n",
    "\n",
    "# Compile the model\n",
    "model.compile(\n",
    "    optimizer=optimizer,\n",
    "    loss=loss, \n",
    "    metrics=metric)\n",
    "\n",
    "# Fit the model\n",
    "history = model.fit(\n",
    "    # x=x_train_enc['input_ids'],\n",
    "    x={'input_ids': x_train_enc['input_ids']},\n",
    "    y=y_train_enc_one_hot,\n",
    "    validation_data=({'input_ids': x_test_enc['input_ids']}, y_test_enc_one_hot),\n",
    "    batch_size=16,\n",
    "    epochs=2)"
   ]
  },
  {
   "cell_type": "markdown",
   "metadata": {
    "id": "_ikZAv8vWBeC"
   },
   "source": [
    "whats that warning?"
   ]
  },
  {
   "cell_type": "markdown",
   "metadata": {
    "id": "xsfh7B49H5Yf"
   },
   "source": [
    "### DistillBERT"
   ]
  },
  {
   "cell_type": "markdown",
   "metadata": {},
   "source": [
    "#### include attention masks, play with max_length (std)"
   ]
  },
  {
   "cell_type": "code",
   "execution_count": 23,
   "metadata": {},
   "outputs": [],
   "source": [
    "# setting seed\n",
    "seed = s5 # [s2, s3, s4]\n",
    "np.random.seed(seed)\n",
    "tf.random.set_seed(seed)"
   ]
  },
  {
   "cell_type": "code",
   "execution_count": 24,
   "metadata": {
    "executionInfo": {
     "elapsed": 1421,
     "status": "ok",
     "timestamp": 1607802142727,
     "user": {
      "displayName": "Utkarsh Jain",
      "photoUrl": "https://lh3.googleusercontent.com/-gplhvKJjZdQ/AAAAAAAAAAI/AAAAAAAAEhA/cT_zmta4k_Q/s64/photo.jpg",
      "userId": "09628245901381158092"
     },
     "user_tz": -330
    },
    "id": "kfOhYPTuH7TB"
   },
   "outputs": [],
   "source": [
    "from transformers import TFDistilBertModel, DistilBertConfig, DistilBertTokenizerFast"
   ]
  },
  {
   "cell_type": "code",
   "execution_count": 25,
   "metadata": {
    "colab": {
     "base_uri": "https://localhost:8080/"
    },
    "executionInfo": {
     "elapsed": 2307,
     "status": "ok",
     "timestamp": 1607802143878,
     "user": {
      "displayName": "Utkarsh Jain",
      "photoUrl": "https://lh3.googleusercontent.com/-gplhvKJjZdQ/AAAAAAAAAAI/AAAAAAAAEhA/cT_zmta4k_Q/s64/photo.jpg",
      "userId": "09628245901381158092"
     },
     "user_tz": -330
    },
    "id": "xrEcx2nDH7TB",
    "outputId": "2ecf36da-9caa-4441-c4f3-ceff14c80d38",
    "scrolled": false
   },
   "outputs": [
    {
     "name": "stderr",
     "output_type": "stream",
     "text": [
      "Some layers from the model checkpoint at distilbert-base-uncased were not used when initializing TFDistilBertModel: ['activation_13', 'vocab_projector', 'vocab_transform', 'vocab_layer_norm']\n",
      "- This IS expected if you are initializing TFDistilBertModel from the checkpoint of a model trained on another task or with another architecture (e.g. initializing a BertForSequenceClassification model from a BertForPreTraining model).\n",
      "- This IS NOT expected if you are initializing TFDistilBertModel from the checkpoint of a model that you expect to be exactly identical (initializing a BertForSequenceClassification model from a BertForSequenceClassification model).\n",
      "All the layers of TFDistilBertModel were initialized from the model checkpoint at distilbert-base-uncased.\n",
      "If your task is similar to the task the model of the checkpoint was trained on, you can already use TFDistilBertModel for predictions without further training.\n"
     ]
    }
   ],
   "source": [
    "# Name of the BERT model to use\n",
    "model_name = 'distilbert-base-uncased'\n",
    "\n",
    "# Max length of tokens\n",
    "# max_length = 400\n",
    "\n",
    "# Load transformers config and set output_hidden_states to False\n",
    "config = DistilBertConfig.from_pretrained(model_name)\n",
    "config.output_hidden_states = False\n",
    "config.num_labels = num_classes\n",
    "\n",
    "# Load BERT tokenizer\n",
    "tokenizer = DistilBertTokenizerFast.from_pretrained(pretrained_model_name_or_path=model_name, config=config)\n",
    "\n",
    "# Load the Transformers BERT model\n",
    "distilbert_model = TFDistilBertModel.from_pretrained(model_name, config=config)"
   ]
  },
  {
   "cell_type": "code",
   "execution_count": 26,
   "metadata": {
    "executionInfo": {
     "elapsed": 1573,
     "status": "ok",
     "timestamp": 1607802145615,
     "user": {
      "displayName": "Utkarsh Jain",
      "photoUrl": "https://lh3.googleusercontent.com/-gplhvKJjZdQ/AAAAAAAAAAI/AAAAAAAAEhA/cT_zmta4k_Q/s64/photo.jpg",
      "userId": "09628245901381158092"
     },
     "user_tz": -330
    },
    "id": "oJygZh1SH7TC"
   },
   "outputs": [],
   "source": [
    "# Prepare input data\n",
    "# Tokenize texts \n",
    "def tokenize(text):\n",
    "    tokenized = tokenizer(text,\n",
    "                          max_length=max_length,\n",
    "                          padding=True,\n",
    "                          truncation=True,\n",
    "                          return_tensors='tf',\n",
    "                          return_token_type_ids=False,\n",
    "                          return_attention_mask=False,\n",
    "                          verbose=True)\n",
    "    return tokenized\n",
    "\n",
    "x_train_enc = tokenize(x_train_text)\n",
    "# x_test_enc = tokenize(x_test_text)\n",
    "\n",
    "y_train_enc_one_hot = to_categorical(y_train_enc, num_classes=num_classes)\n",
    "# y_test_enc_one_hot = to_categorical(y_test_enc, num_classes=num_classes)"
   ]
  },
  {
   "cell_type": "markdown",
   "metadata": {
    "id": "XI-3pYp8JdsS"
   },
   "source": [
    "refer source code for adding head layers"
   ]
  },
  {
   "cell_type": "code",
   "execution_count": 27,
   "metadata": {
    "colab": {
     "base_uri": "https://localhost:8080/"
    },
    "executionInfo": {
     "elapsed": 2182,
     "status": "ok",
     "timestamp": 1607802148307,
     "user": {
      "displayName": "Utkarsh Jain",
      "photoUrl": "https://lh3.googleusercontent.com/-gplhvKJjZdQ/AAAAAAAAAAI/AAAAAAAAEhA/cT_zmta4k_Q/s64/photo.jpg",
      "userId": "09628245901381158092"
     },
     "user_tz": -330
    },
    "id": "zuaInCwXH7TC",
    "outputId": "cbbdac5e-9785-4a18-8549-44338dc51ed6",
    "scrolled": false
   },
   "outputs": [
    {
     "name": "stdout",
     "output_type": "stream",
     "text": [
      "Model: \"Complaint_Classifier\"\n",
      "_________________________________________________________________\n",
      "Layer (type)                 Output Shape              Param #   \n",
      "=================================================================\n",
      "input_ids (InputLayer)       [(None, 438)]             0         \n",
      "_________________________________________________________________\n",
      "distilbert (TFDistilBertMain ((None, 438, 768),)       66362880  \n",
      "_________________________________________________________________\n",
      "tf_op_layer_strided_slice (T [(None, 768)]             0         \n",
      "_________________________________________________________________\n",
      "pre_classifier (Dense)       (None, 768)               590592    \n",
      "_________________________________________________________________\n",
      "dropout_19 (Dropout)         (None, 768)               0         \n",
      "_________________________________________________________________\n",
      "classifier (Dense)           (None, 3)                 2307      \n",
      "=================================================================\n",
      "Total params: 66,955,779\n",
      "Trainable params: 66,955,779\n",
      "Non-trainable params: 0\n",
      "_________________________________________________________________\n"
     ]
    }
   ],
   "source": [
    "# Load layers\n",
    "distilbert = distilbert_model.layers[0]\n",
    "pre_classifier = Dense(units=config.dim,\n",
    "                       kernel_initializer=TruncatedNormal(stddev=config.initializer_range),\n",
    "                       activation='relu',\n",
    "                       name='pre_classifier')\n",
    "classifier = Dense(units=config.num_labels,\n",
    "                   kernel_initializer=TruncatedNormal(stddev=config.initializer_range),\n",
    "                   name='classifier')\n",
    "dropout = Dropout(config.seq_classif_dropout)\n",
    "\n",
    "# Build model input\n",
    "input_ids = Input(shape=(max_length,), name='input_ids', dtype='int32')\n",
    "inputs = {'input_ids': input_ids}\n",
    "\n",
    "# forward pass\n",
    "distilbert_output = distilbert(inputs)\n",
    "hidden_state = distilbert_output[0]\n",
    "pooled_output = hidden_state[:, 0]\n",
    "pooled_output = pre_classifier(pooled_output)\n",
    "pooled_output = dropout(pooled_output) # , training=False True or False?\n",
    "logits = classifier(pooled_output) \n",
    "\n",
    "# build a model using TF functional API\n",
    "model = Model(inputs=inputs, outputs=logits, name='Complaint_Classifier')\n",
    "\n",
    "# Take a look at the model\n",
    "model.summary()"
   ]
  },
  {
   "cell_type": "code",
   "execution_count": 28,
   "metadata": {
    "executionInfo": {
     "elapsed": 719,
     "status": "ok",
     "timestamp": 1607802148310,
     "user": {
      "displayName": "Utkarsh Jain",
      "photoUrl": "https://lh3.googleusercontent.com/-gplhvKJjZdQ/AAAAAAAAAAI/AAAAAAAAEhA/cT_zmta4k_Q/s64/photo.jpg",
      "userId": "09628245901381158092"
     },
     "user_tz": -330
    },
    "id": "7VAlqtlyb1Lu"
   },
   "outputs": [],
   "source": [
    "lr = 1e-05\n",
    "epsilon = 1e-08\n",
    "decay=0.01\n",
    "clipnorm = 1.0\n",
    "bs = 8 # 32 perhaps better\n",
    "# set callbacks\n",
    "cb = [ModelCheckpoint(filepath=str(data_path / model_folder_name)+'/'+'model.{epoch:02d}-{accuracy:02f}-{val_accuracy:.2f}',\n",
    "                      monitor='val_accuracy',\n",
    "                      mode='max',\n",
    "                      save_best_only=True)] # callbacks"
   ]
  },
  {
   "cell_type": "code",
   "execution_count": null,
   "metadata": {
    "scrolled": true
   },
   "outputs": [
    {
     "name": "stdout",
     "output_type": "stream",
     "text": [
      "Epoch 1/9\n",
      "36/36 [==============================] - 21s 580ms/step - loss: 1.1005 - accuracy: 0.3357\n",
      "Epoch 2/9\n",
      "36/36 [==============================] - 22s 600ms/step - loss: 1.0878 - accuracy: 0.3852\n",
      "Epoch 3/9\n",
      "36/36 [==============================] - 21s 578ms/step - loss: 1.0809 - accuracy: 0.3993\n",
      "Epoch 4/9\n",
      "33/36 [==========================>...] - ETA: 1s - loss: 1.0701 - accuracy: 0.3674"
     ]
    }
   ],
   "source": [
    "# no trainng arg in dropout\n",
    "### ------- Train the model ------- ###\n",
    "# Set an optimizer\n",
    "optimizer = Adam(\n",
    "    learning_rate=lr,\n",
    "    epsilon=epsilon,\n",
    "    decay=decay,\n",
    "    clipnorm=clipnorm)\n",
    "\n",
    "# Set loss and metrics\n",
    "loss = CategoricalCrossentropy(from_logits=True)\n",
    "metric = CategoricalAccuracy('accuracy')\n",
    "\n",
    "# Compile the model\n",
    "model.compile(\n",
    "    optimizer=optimizer,\n",
    "    loss=loss, \n",
    "    metrics=metric)\n",
    "\n",
    "# Fit the model\n",
    "history = model.fit(\n",
    "    # x=x_train_enc['input_ids'],\n",
    "    x={'input_ids': x_train_enc['input_ids']},\n",
    "    y=y_train_enc_one_hot,\n",
    "#     validation_data=({'input_ids': x_test_enc['input_ids']}, y_test_enc_one_hot),\n",
    "    batch_size=bs,\n",
    "    epochs=9,)\n",
    "#     callbacks=cb)"
   ]
  },
  {
   "cell_type": "code",
   "execution_count": null,
   "metadata": {},
   "outputs": [],
   "source": [
    "model.save(data_path / 'model/s5_model_final')"
   ]
  },
  {
   "cell_type": "code",
   "execution_count": null,
   "metadata": {
    "colab": {
     "base_uri": "https://localhost:8080/"
    },
    "executionInfo": {
     "elapsed": 23325,
     "status": "ok",
     "timestamp": 1607802369289,
     "user": {
      "displayName": "Utkarsh Jain",
      "photoUrl": "https://lh3.googleusercontent.com/-gplhvKJjZdQ/AAAAAAAAAAI/AAAAAAAAEhA/cT_zmta4k_Q/s64/photo.jpg",
      "userId": "09628245901381158092"
     },
     "user_tz": -330
    },
    "id": "CiTJAI_wdmZ_",
    "outputId": "2dad250a-4fc9-4b37-d297-3b79bd60bd61",
    "scrolled": false
   },
   "outputs": [],
   "source": [
    "# Fit the model\n",
    "history = model.fit(\n",
    "    # x=x_train_enc['input_ids'],\n",
    "    x={'input_ids': x_train_enc['input_ids']},\n",
    "    y=y_train_enc_one_hot,\n",
    "    validation_data=({'input_ids': x_test_enc['input_ids']}, y_test_enc_one_hot),\n",
    "    batch_size=bs,\n",
    "    epochs=10,)\n",
    "#     callbacks=cb)"
   ]
  },
  {
   "cell_type": "code",
   "execution_count": 32,
   "metadata": {},
   "outputs": [
    {
     "name": "stdout",
     "output_type": "stream",
     "text": [
      "Epoch 1/40\n",
      "30/30 [==============================] - 18s 605ms/step - loss: 0.9543 - accuracy: 0.6042 - val_loss: 0.9848 - val_accuracy: 0.5349\n",
      "Epoch 2/40\n",
      "30/30 [==============================] - 18s 600ms/step - loss: 0.9440 - accuracy: 0.5917 - val_loss: 0.9874 - val_accuracy: 0.5349\n",
      "Epoch 3/40\n",
      "30/30 [==============================] - 18s 613ms/step - loss: 0.9459 - accuracy: 0.5417 - val_loss: 0.9767 - val_accuracy: 0.5349\n",
      "Epoch 4/40\n",
      "30/30 [==============================] - 18s 612ms/step - loss: 0.9318 - accuracy: 0.5792 - val_loss: 0.9760 - val_accuracy: 0.5581\n",
      "Epoch 5/40\n",
      "30/30 [==============================] - 18s 599ms/step - loss: 0.9268 - accuracy: 0.6042 - val_loss: 0.9808 - val_accuracy: 0.5349\n",
      "Epoch 6/40\n",
      "30/30 [==============================] - 18s 600ms/step - loss: 0.9244 - accuracy: 0.5708 - val_loss: 0.9740 - val_accuracy: 0.5581\n",
      "Epoch 7/40\n",
      "30/30 [==============================] - 18s 606ms/step - loss: 0.9315 - accuracy: 0.5625 - val_loss: 0.9805 - val_accuracy: 0.5581\n",
      "Epoch 8/40\n",
      "30/30 [==============================] - 19s 617ms/step - loss: 0.9449 - accuracy: 0.5417 - val_loss: 0.9827 - val_accuracy: 0.5581\n",
      "Epoch 9/40\n",
      "30/30 [==============================] - 18s 616ms/step - loss: 0.9267 - accuracy: 0.5958 - val_loss: 0.9584 - val_accuracy: 0.6047\n",
      "Epoch 10/40\n",
      "30/30 [==============================] - 18s 598ms/step - loss: 0.9193 - accuracy: 0.5750 - val_loss: 0.9659 - val_accuracy: 0.5814\n",
      "Epoch 11/40\n",
      "30/30 [==============================] - 19s 619ms/step - loss: 0.9285 - accuracy: 0.5750 - val_loss: 0.9575 - val_accuracy: 0.6047\n",
      "Epoch 12/40\n",
      "30/30 [==============================] - 19s 627ms/step - loss: 0.9307 - accuracy: 0.5667 - val_loss: 0.9496 - val_accuracy: 0.6279\n",
      "Epoch 13/40\n",
      "30/30 [==============================] - 19s 639ms/step - loss: 0.9165 - accuracy: 0.5542 - val_loss: 0.9660 - val_accuracy: 0.5581\n",
      "Epoch 14/40\n",
      "30/30 [==============================] - 18s 614ms/step - loss: 0.9189 - accuracy: 0.5667 - val_loss: 0.9654 - val_accuracy: 0.5814\n",
      "Epoch 15/40\n",
      "30/30 [==============================] - 19s 626ms/step - loss: 0.9072 - accuracy: 0.6375 - val_loss: 0.9498 - val_accuracy: 0.6279\n",
      "Epoch 16/40\n",
      "30/30 [==============================] - 19s 642ms/step - loss: 0.9199 - accuracy: 0.5792 - val_loss: 0.9634 - val_accuracy: 0.5581\n",
      "Epoch 17/40\n",
      "30/30 [==============================] - 19s 627ms/step - loss: 0.9086 - accuracy: 0.5917 - val_loss: 0.9543 - val_accuracy: 0.6047\n",
      "Epoch 18/40\n",
      "30/30 [==============================] - 19s 641ms/step - loss: 0.9192 - accuracy: 0.5917 - val_loss: 0.9413 - val_accuracy: 0.6279\n",
      "Epoch 19/40\n",
      "30/30 [==============================] - 18s 604ms/step - loss: 0.9121 - accuracy: 0.5958 - val_loss: 0.9419 - val_accuracy: 0.6279\n",
      "Epoch 20/40\n",
      "30/30 [==============================] - 18s 597ms/step - loss: 0.8939 - accuracy: 0.6000 - val_loss: 0.9520 - val_accuracy: 0.5814\n",
      "Epoch 21/40\n",
      "30/30 [==============================] - 18s 602ms/step - loss: 0.9022 - accuracy: 0.5792 - val_loss: 0.9219 - val_accuracy: 0.6279\n",
      "Epoch 22/40\n",
      "30/30 [==============================] - 18s 597ms/step - loss: 0.8964 - accuracy: 0.6125 - val_loss: 0.9302 - val_accuracy: 0.6279\n",
      "Epoch 23/40\n",
      "30/30 [==============================] - 18s 598ms/step - loss: 0.8945 - accuracy: 0.6083 - val_loss: 0.9288 - val_accuracy: 0.6279\n",
      "Epoch 24/40\n",
      "30/30 [==============================] - 18s 599ms/step - loss: 0.9001 - accuracy: 0.6125 - val_loss: 0.9277 - val_accuracy: 0.6279\n",
      "Epoch 25/40\n",
      "30/30 [==============================] - 18s 598ms/step - loss: 0.8924 - accuracy: 0.6458 - val_loss: 0.9211 - val_accuracy: 0.6279\n",
      "Epoch 26/40\n",
      "30/30 [==============================] - 18s 598ms/step - loss: 0.8665 - accuracy: 0.6458 - val_loss: 0.9482 - val_accuracy: 0.5814\n",
      "Epoch 27/40\n",
      "30/30 [==============================] - 18s 607ms/step - loss: 0.8960 - accuracy: 0.5625 - val_loss: 0.9389 - val_accuracy: 0.6512\n",
      "Epoch 28/40\n",
      "30/30 [==============================] - 18s 605ms/step - loss: 0.8906 - accuracy: 0.6417 - val_loss: 0.9126 - val_accuracy: 0.6512\n",
      "Epoch 29/40\n",
      "30/30 [==============================] - 18s 598ms/step - loss: 0.8709 - accuracy: 0.6583 - val_loss: 0.9390 - val_accuracy: 0.6047\n",
      "Epoch 30/40\n",
      "30/30 [==============================] - 18s 600ms/step - loss: 0.8896 - accuracy: 0.6000 - val_loss: 0.9278 - val_accuracy: 0.6512\n",
      "Epoch 31/40\n",
      "30/30 [==============================] - 18s 598ms/step - loss: 0.8797 - accuracy: 0.6167 - val_loss: 0.9176 - val_accuracy: 0.6512\n",
      "Epoch 32/40\n",
      "30/30 [==============================] - 18s 598ms/step - loss: 0.8608 - accuracy: 0.6500 - val_loss: 0.8994 - val_accuracy: 0.6047\n",
      "Epoch 33/40\n",
      "30/30 [==============================] - 18s 604ms/step - loss: 0.8672 - accuracy: 0.6333 - val_loss: 0.9135 - val_accuracy: 0.6512\n",
      "Epoch 34/40\n",
      " 3/30 [==>...........................] - ETA: 10s - loss: 0.8574 - accuracy: 0.6250"
     ]
    },
    {
     "ename": "KeyboardInterrupt",
     "evalue": "",
     "output_type": "error",
     "traceback": [
      "\u001b[0;31m---------------------------------------------------------------------------\u001b[0m",
      "\u001b[0;31mKeyboardInterrupt\u001b[0m                         Traceback (most recent call last)",
      "\u001b[0;32m<ipython-input-32-151f248b80a9>\u001b[0m in \u001b[0;36m<module>\u001b[0;34m\u001b[0m\n\u001b[1;32m      6\u001b[0m     \u001b[0mvalidation_data\u001b[0m\u001b[0;34m=\u001b[0m\u001b[0;34m(\u001b[0m\u001b[0;34m{\u001b[0m\u001b[0;34m'input_ids'\u001b[0m\u001b[0;34m:\u001b[0m \u001b[0mx_test_enc\u001b[0m\u001b[0;34m[\u001b[0m\u001b[0;34m'input_ids'\u001b[0m\u001b[0;34m]\u001b[0m\u001b[0;34m}\u001b[0m\u001b[0;34m,\u001b[0m \u001b[0my_test_enc_one_hot\u001b[0m\u001b[0;34m)\u001b[0m\u001b[0;34m,\u001b[0m\u001b[0;34m\u001b[0m\u001b[0;34m\u001b[0m\u001b[0m\n\u001b[1;32m      7\u001b[0m     \u001b[0mbatch_size\u001b[0m\u001b[0;34m=\u001b[0m\u001b[0mbs\u001b[0m\u001b[0;34m,\u001b[0m\u001b[0;34m\u001b[0m\u001b[0;34m\u001b[0m\u001b[0m\n\u001b[0;32m----> 8\u001b[0;31m     epochs=40,)\n\u001b[0m\u001b[1;32m      9\u001b[0m \u001b[0;31m#     callbacks=cb)\u001b[0m\u001b[0;34m\u001b[0m\u001b[0;34m\u001b[0m\u001b[0;34m\u001b[0m\u001b[0m\n",
      "\u001b[0;32m~/anaconda3/lib/python3.7/site-packages/tensorflow/python/keras/engine/training.py\u001b[0m in \u001b[0;36m_method_wrapper\u001b[0;34m(self, *args, **kwargs)\u001b[0m\n\u001b[1;32m    106\u001b[0m   \u001b[0;32mdef\u001b[0m \u001b[0m_method_wrapper\u001b[0m\u001b[0;34m(\u001b[0m\u001b[0mself\u001b[0m\u001b[0;34m,\u001b[0m \u001b[0;34m*\u001b[0m\u001b[0margs\u001b[0m\u001b[0;34m,\u001b[0m \u001b[0;34m**\u001b[0m\u001b[0mkwargs\u001b[0m\u001b[0;34m)\u001b[0m\u001b[0;34m:\u001b[0m\u001b[0;34m\u001b[0m\u001b[0;34m\u001b[0m\u001b[0m\n\u001b[1;32m    107\u001b[0m     \u001b[0;32mif\u001b[0m \u001b[0;32mnot\u001b[0m \u001b[0mself\u001b[0m\u001b[0;34m.\u001b[0m\u001b[0m_in_multi_worker_mode\u001b[0m\u001b[0;34m(\u001b[0m\u001b[0;34m)\u001b[0m\u001b[0;34m:\u001b[0m  \u001b[0;31m# pylint: disable=protected-access\u001b[0m\u001b[0;34m\u001b[0m\u001b[0;34m\u001b[0m\u001b[0m\n\u001b[0;32m--> 108\u001b[0;31m       \u001b[0;32mreturn\u001b[0m \u001b[0mmethod\u001b[0m\u001b[0;34m(\u001b[0m\u001b[0mself\u001b[0m\u001b[0;34m,\u001b[0m \u001b[0;34m*\u001b[0m\u001b[0margs\u001b[0m\u001b[0;34m,\u001b[0m \u001b[0;34m**\u001b[0m\u001b[0mkwargs\u001b[0m\u001b[0;34m)\u001b[0m\u001b[0;34m\u001b[0m\u001b[0;34m\u001b[0m\u001b[0m\n\u001b[0m\u001b[1;32m    109\u001b[0m \u001b[0;34m\u001b[0m\u001b[0m\n\u001b[1;32m    110\u001b[0m     \u001b[0;31m# Running inside `run_distribute_coordinator` already.\u001b[0m\u001b[0;34m\u001b[0m\u001b[0;34m\u001b[0m\u001b[0;34m\u001b[0m\u001b[0m\n",
      "\u001b[0;32m~/anaconda3/lib/python3.7/site-packages/tensorflow/python/keras/engine/training.py\u001b[0m in \u001b[0;36mfit\u001b[0;34m(self, x, y, batch_size, epochs, verbose, callbacks, validation_split, validation_data, shuffle, class_weight, sample_weight, initial_epoch, steps_per_epoch, validation_steps, validation_batch_size, validation_freq, max_queue_size, workers, use_multiprocessing)\u001b[0m\n\u001b[1;32m   1096\u001b[0m                 batch_size=batch_size):\n\u001b[1;32m   1097\u001b[0m               \u001b[0mcallbacks\u001b[0m\u001b[0;34m.\u001b[0m\u001b[0mon_train_batch_begin\u001b[0m\u001b[0;34m(\u001b[0m\u001b[0mstep\u001b[0m\u001b[0;34m)\u001b[0m\u001b[0;34m\u001b[0m\u001b[0;34m\u001b[0m\u001b[0m\n\u001b[0;32m-> 1098\u001b[0;31m               \u001b[0mtmp_logs\u001b[0m \u001b[0;34m=\u001b[0m \u001b[0mtrain_function\u001b[0m\u001b[0;34m(\u001b[0m\u001b[0miterator\u001b[0m\u001b[0;34m)\u001b[0m\u001b[0;34m\u001b[0m\u001b[0;34m\u001b[0m\u001b[0m\n\u001b[0m\u001b[1;32m   1099\u001b[0m               \u001b[0;32mif\u001b[0m \u001b[0mdata_handler\u001b[0m\u001b[0;34m.\u001b[0m\u001b[0mshould_sync\u001b[0m\u001b[0;34m:\u001b[0m\u001b[0;34m\u001b[0m\u001b[0;34m\u001b[0m\u001b[0m\n\u001b[1;32m   1100\u001b[0m                 \u001b[0mcontext\u001b[0m\u001b[0;34m.\u001b[0m\u001b[0masync_wait\u001b[0m\u001b[0;34m(\u001b[0m\u001b[0;34m)\u001b[0m\u001b[0;34m\u001b[0m\u001b[0;34m\u001b[0m\u001b[0m\n",
      "\u001b[0;32m~/anaconda3/lib/python3.7/site-packages/tensorflow/python/eager/def_function.py\u001b[0m in \u001b[0;36m__call__\u001b[0;34m(self, *args, **kwds)\u001b[0m\n\u001b[1;32m    778\u001b[0m       \u001b[0;32melse\u001b[0m\u001b[0;34m:\u001b[0m\u001b[0;34m\u001b[0m\u001b[0;34m\u001b[0m\u001b[0m\n\u001b[1;32m    779\u001b[0m         \u001b[0mcompiler\u001b[0m \u001b[0;34m=\u001b[0m \u001b[0;34m\"nonXla\"\u001b[0m\u001b[0;34m\u001b[0m\u001b[0;34m\u001b[0m\u001b[0m\n\u001b[0;32m--> 780\u001b[0;31m         \u001b[0mresult\u001b[0m \u001b[0;34m=\u001b[0m \u001b[0mself\u001b[0m\u001b[0;34m.\u001b[0m\u001b[0m_call\u001b[0m\u001b[0;34m(\u001b[0m\u001b[0;34m*\u001b[0m\u001b[0margs\u001b[0m\u001b[0;34m,\u001b[0m \u001b[0;34m**\u001b[0m\u001b[0mkwds\u001b[0m\u001b[0;34m)\u001b[0m\u001b[0;34m\u001b[0m\u001b[0;34m\u001b[0m\u001b[0m\n\u001b[0m\u001b[1;32m    781\u001b[0m \u001b[0;34m\u001b[0m\u001b[0m\n\u001b[1;32m    782\u001b[0m       \u001b[0mnew_tracing_count\u001b[0m \u001b[0;34m=\u001b[0m \u001b[0mself\u001b[0m\u001b[0;34m.\u001b[0m\u001b[0m_get_tracing_count\u001b[0m\u001b[0;34m(\u001b[0m\u001b[0;34m)\u001b[0m\u001b[0;34m\u001b[0m\u001b[0;34m\u001b[0m\u001b[0m\n",
      "\u001b[0;32m~/anaconda3/lib/python3.7/site-packages/tensorflow/python/eager/def_function.py\u001b[0m in \u001b[0;36m_call\u001b[0;34m(self, *args, **kwds)\u001b[0m\n\u001b[1;32m    805\u001b[0m       \u001b[0;31m# In this case we have created variables on the first call, so we run the\u001b[0m\u001b[0;34m\u001b[0m\u001b[0;34m\u001b[0m\u001b[0;34m\u001b[0m\u001b[0m\n\u001b[1;32m    806\u001b[0m       \u001b[0;31m# defunned version which is guaranteed to never create variables.\u001b[0m\u001b[0;34m\u001b[0m\u001b[0;34m\u001b[0m\u001b[0;34m\u001b[0m\u001b[0m\n\u001b[0;32m--> 807\u001b[0;31m       \u001b[0;32mreturn\u001b[0m \u001b[0mself\u001b[0m\u001b[0;34m.\u001b[0m\u001b[0m_stateless_fn\u001b[0m\u001b[0;34m(\u001b[0m\u001b[0;34m*\u001b[0m\u001b[0margs\u001b[0m\u001b[0;34m,\u001b[0m \u001b[0;34m**\u001b[0m\u001b[0mkwds\u001b[0m\u001b[0;34m)\u001b[0m  \u001b[0;31m# pylint: disable=not-callable\u001b[0m\u001b[0;34m\u001b[0m\u001b[0;34m\u001b[0m\u001b[0m\n\u001b[0m\u001b[1;32m    808\u001b[0m     \u001b[0;32melif\u001b[0m \u001b[0mself\u001b[0m\u001b[0;34m.\u001b[0m\u001b[0m_stateful_fn\u001b[0m \u001b[0;32mis\u001b[0m \u001b[0;32mnot\u001b[0m \u001b[0;32mNone\u001b[0m\u001b[0;34m:\u001b[0m\u001b[0;34m\u001b[0m\u001b[0;34m\u001b[0m\u001b[0m\n\u001b[1;32m    809\u001b[0m       \u001b[0;31m# Release the lock early so that multiple threads can perform the call\u001b[0m\u001b[0;34m\u001b[0m\u001b[0;34m\u001b[0m\u001b[0;34m\u001b[0m\u001b[0m\n",
      "\u001b[0;32m~/anaconda3/lib/python3.7/site-packages/tensorflow/python/eager/function.py\u001b[0m in \u001b[0;36m__call__\u001b[0;34m(self, *args, **kwargs)\u001b[0m\n\u001b[1;32m   2827\u001b[0m     \u001b[0;32mwith\u001b[0m \u001b[0mself\u001b[0m\u001b[0;34m.\u001b[0m\u001b[0m_lock\u001b[0m\u001b[0;34m:\u001b[0m\u001b[0;34m\u001b[0m\u001b[0;34m\u001b[0m\u001b[0m\n\u001b[1;32m   2828\u001b[0m       \u001b[0mgraph_function\u001b[0m\u001b[0;34m,\u001b[0m \u001b[0margs\u001b[0m\u001b[0;34m,\u001b[0m \u001b[0mkwargs\u001b[0m \u001b[0;34m=\u001b[0m \u001b[0mself\u001b[0m\u001b[0;34m.\u001b[0m\u001b[0m_maybe_define_function\u001b[0m\u001b[0;34m(\u001b[0m\u001b[0margs\u001b[0m\u001b[0;34m,\u001b[0m \u001b[0mkwargs\u001b[0m\u001b[0;34m)\u001b[0m\u001b[0;34m\u001b[0m\u001b[0;34m\u001b[0m\u001b[0m\n\u001b[0;32m-> 2829\u001b[0;31m     \u001b[0;32mreturn\u001b[0m \u001b[0mgraph_function\u001b[0m\u001b[0;34m.\u001b[0m\u001b[0m_filtered_call\u001b[0m\u001b[0;34m(\u001b[0m\u001b[0margs\u001b[0m\u001b[0;34m,\u001b[0m \u001b[0mkwargs\u001b[0m\u001b[0;34m)\u001b[0m  \u001b[0;31m# pylint: disable=protected-access\u001b[0m\u001b[0;34m\u001b[0m\u001b[0;34m\u001b[0m\u001b[0m\n\u001b[0m\u001b[1;32m   2830\u001b[0m \u001b[0;34m\u001b[0m\u001b[0m\n\u001b[1;32m   2831\u001b[0m   \u001b[0;34m@\u001b[0m\u001b[0mproperty\u001b[0m\u001b[0;34m\u001b[0m\u001b[0;34m\u001b[0m\u001b[0m\n",
      "\u001b[0;32m~/anaconda3/lib/python3.7/site-packages/tensorflow/python/eager/function.py\u001b[0m in \u001b[0;36m_filtered_call\u001b[0;34m(self, args, kwargs, cancellation_manager)\u001b[0m\n\u001b[1;32m   1846\u001b[0m                            resource_variable_ops.BaseResourceVariable))],\n\u001b[1;32m   1847\u001b[0m         \u001b[0mcaptured_inputs\u001b[0m\u001b[0;34m=\u001b[0m\u001b[0mself\u001b[0m\u001b[0;34m.\u001b[0m\u001b[0mcaptured_inputs\u001b[0m\u001b[0;34m,\u001b[0m\u001b[0;34m\u001b[0m\u001b[0;34m\u001b[0m\u001b[0m\n\u001b[0;32m-> 1848\u001b[0;31m         cancellation_manager=cancellation_manager)\n\u001b[0m\u001b[1;32m   1849\u001b[0m \u001b[0;34m\u001b[0m\u001b[0m\n\u001b[1;32m   1850\u001b[0m   \u001b[0;32mdef\u001b[0m \u001b[0m_call_flat\u001b[0m\u001b[0;34m(\u001b[0m\u001b[0mself\u001b[0m\u001b[0;34m,\u001b[0m \u001b[0margs\u001b[0m\u001b[0;34m,\u001b[0m \u001b[0mcaptured_inputs\u001b[0m\u001b[0;34m,\u001b[0m \u001b[0mcancellation_manager\u001b[0m\u001b[0;34m=\u001b[0m\u001b[0;32mNone\u001b[0m\u001b[0;34m)\u001b[0m\u001b[0;34m:\u001b[0m\u001b[0;34m\u001b[0m\u001b[0;34m\u001b[0m\u001b[0m\n",
      "\u001b[0;32m~/anaconda3/lib/python3.7/site-packages/tensorflow/python/eager/function.py\u001b[0m in \u001b[0;36m_call_flat\u001b[0;34m(self, args, captured_inputs, cancellation_manager)\u001b[0m\n\u001b[1;32m   1922\u001b[0m       \u001b[0;31m# No tape is watching; skip to running the function.\u001b[0m\u001b[0;34m\u001b[0m\u001b[0;34m\u001b[0m\u001b[0;34m\u001b[0m\u001b[0m\n\u001b[1;32m   1923\u001b[0m       return self._build_call_outputs(self._inference_function.call(\n\u001b[0;32m-> 1924\u001b[0;31m           ctx, args, cancellation_manager=cancellation_manager))\n\u001b[0m\u001b[1;32m   1925\u001b[0m     forward_backward = self._select_forward_and_backward_functions(\n\u001b[1;32m   1926\u001b[0m         \u001b[0margs\u001b[0m\u001b[0;34m,\u001b[0m\u001b[0;34m\u001b[0m\u001b[0;34m\u001b[0m\u001b[0m\n",
      "\u001b[0;32m~/anaconda3/lib/python3.7/site-packages/tensorflow/python/eager/function.py\u001b[0m in \u001b[0;36mcall\u001b[0;34m(self, ctx, args, cancellation_manager)\u001b[0m\n\u001b[1;32m    548\u001b[0m               \u001b[0minputs\u001b[0m\u001b[0;34m=\u001b[0m\u001b[0margs\u001b[0m\u001b[0;34m,\u001b[0m\u001b[0;34m\u001b[0m\u001b[0;34m\u001b[0m\u001b[0m\n\u001b[1;32m    549\u001b[0m               \u001b[0mattrs\u001b[0m\u001b[0;34m=\u001b[0m\u001b[0mattrs\u001b[0m\u001b[0;34m,\u001b[0m\u001b[0;34m\u001b[0m\u001b[0;34m\u001b[0m\u001b[0m\n\u001b[0;32m--> 550\u001b[0;31m               ctx=ctx)\n\u001b[0m\u001b[1;32m    551\u001b[0m         \u001b[0;32melse\u001b[0m\u001b[0;34m:\u001b[0m\u001b[0;34m\u001b[0m\u001b[0;34m\u001b[0m\u001b[0m\n\u001b[1;32m    552\u001b[0m           outputs = execute.execute_with_cancellation(\n",
      "\u001b[0;32m~/anaconda3/lib/python3.7/site-packages/tensorflow/python/eager/execute.py\u001b[0m in \u001b[0;36mquick_execute\u001b[0;34m(op_name, num_outputs, inputs, attrs, ctx, name)\u001b[0m\n\u001b[1;32m     58\u001b[0m     \u001b[0mctx\u001b[0m\u001b[0;34m.\u001b[0m\u001b[0mensure_initialized\u001b[0m\u001b[0;34m(\u001b[0m\u001b[0;34m)\u001b[0m\u001b[0;34m\u001b[0m\u001b[0;34m\u001b[0m\u001b[0m\n\u001b[1;32m     59\u001b[0m     tensors = pywrap_tfe.TFE_Py_Execute(ctx._handle, device_name, op_name,\n\u001b[0;32m---> 60\u001b[0;31m                                         inputs, attrs, num_outputs)\n\u001b[0m\u001b[1;32m     61\u001b[0m   \u001b[0;32mexcept\u001b[0m \u001b[0mcore\u001b[0m\u001b[0;34m.\u001b[0m\u001b[0m_NotOkStatusException\u001b[0m \u001b[0;32mas\u001b[0m \u001b[0me\u001b[0m\u001b[0;34m:\u001b[0m\u001b[0;34m\u001b[0m\u001b[0;34m\u001b[0m\u001b[0m\n\u001b[1;32m     62\u001b[0m     \u001b[0;32mif\u001b[0m \u001b[0mname\u001b[0m \u001b[0;32mis\u001b[0m \u001b[0;32mnot\u001b[0m \u001b[0;32mNone\u001b[0m\u001b[0;34m:\u001b[0m\u001b[0;34m\u001b[0m\u001b[0;34m\u001b[0m\u001b[0m\n",
      "\u001b[0;31mKeyboardInterrupt\u001b[0m: "
     ]
    }
   ],
   "source": [
    "# Fit the model\n",
    "history = model.fit(\n",
    "    # x=x_train_enc['input_ids'],\n",
    "    x={'input_ids': x_train_enc['input_ids']},\n",
    "    y=y_train_enc_one_hot,\n",
    "    validation_data=({'input_ids': x_test_enc['input_ids']}, y_test_enc_one_hot),\n",
    "    batch_size=bs,\n",
    "    epochs=40,)\n",
    "#     callbacks=cb)"
   ]
  },
  {
   "cell_type": "code",
   "execution_count": 138,
   "metadata": {},
   "outputs": [
    {
     "data": {
      "text/plain": [
       "Counter({2: 15, 1: 15, 0: 13})"
      ]
     },
     "execution_count": 138,
     "metadata": {},
     "output_type": "execute_result"
    }
   ],
   "source": [
    "Counter(np.argmax(y_test_enc_one_hot, axis=1))"
   ]
  },
  {
   "cell_type": "markdown",
   "metadata": {},
   "source": [
    "## GLOve"
   ]
  },
  {
   "cell_type": "code",
   "execution_count": null,
   "metadata": {},
   "outputs": [],
   "source": [
    "# setting seed\n",
    "seed = s4\n",
    "np.random.seed(seed)\n",
    "tf.random.set_seed(seed)"
   ]
  },
  {
   "cell_type": "code",
   "execution_count": 48,
   "metadata": {},
   "outputs": [],
   "source": [
    "from tensorflow.keras.preprocessing.text import Tokenizer\n",
    "from tensorflow.keras.preprocessing.sequence import pad_sequences\n",
    "# Number of words to take from tokenizer (most frequent words)\n",
    "num_words = 800\n",
    "tokenizer = Tokenizer(num_words=num_words)\n",
    "tokenizer.fit_on_texts(x_train_text)\n",
    "x_train_enc = tokenizer.texts_to_sequences(x_train_text)\n",
    "x_test_enc = tokenizer.texts_to_sequences(x_test_text)"
   ]
  },
  {
   "cell_type": "code",
   "execution_count": 49,
   "metadata": {},
   "outputs": [
    {
     "data": {
      "text/plain": [
       "240"
      ]
     },
     "execution_count": 49,
     "metadata": {},
     "output_type": "execute_result"
    }
   ],
   "source": [
    "y_train_enc_one_hot\n",
    "len(x_train_enc)"
   ]
  },
  {
   "cell_type": "code",
   "execution_count": 51,
   "metadata": {},
   "outputs": [
    {
     "name": "stdout",
     "output_type": "stream",
     "text": [
      "620\n"
     ]
    }
   ],
   "source": [
    "# max_input_length = max([len(s) for s in X_train_enc])\n",
    "# max_input_length = 1000\n",
    "x_lens = [len(x) for x in x_train_enc]\n",
    "max_input_length = int(np.mean(x_lens) + (2*np.std(x_lens)))\n",
    "print(max_input_length)"
   ]
  },
  {
   "cell_type": "code",
   "execution_count": 52,
   "metadata": {},
   "outputs": [],
   "source": [
    "# We recommend using \"post\" padding when working with RNN layers\n",
    "x_train_enc = pad_sequences(x_train_enc, maxlen=max_input_length, padding='post')\n",
    "x_test_enc = pad_sequences(x_test_enc, maxlen=max_input_length, padding='post')"
   ]
  },
  {
   "cell_type": "code",
   "execution_count": 53,
   "metadata": {},
   "outputs": [
    {
     "data": {
      "text/plain": [
       "300"
      ]
     },
     "execution_count": 53,
     "metadata": {},
     "output_type": "execute_result"
    }
   ],
   "source": [
    "embedding_size = 300\n",
    "embedding_size"
   ]
  },
  {
   "cell_type": "code",
   "execution_count": 54,
   "metadata": {},
   "outputs": [
    {
     "data": {
      "text/plain": [
       "dict_items([('the', 1), ('to', 2), ('test', 3), ('you', 4), ('pension', 5), ('and', 6), ('i', 7), ('please', 8), ('of', 9), ('abc', 10), ('for', 11), ('subject', 12), ('a', 13), ('your', 14), ('have', 15), ('my', 16), ('on', 17), ('in', 18), ('xyz', 19), ('is', 20), ('scheme', 21), ('if', 22), ('any', 23), ('this', 24), ('that', 25), ('email', 26), ('or', 27), ('can', 28), ('be', 29), ('at', 30), ('address', 31), ('regards', 32), ('as', 33), ('transfer', 34), ('us', 35), ('retirement', 36), ('information', 37), ('with', 38), ('am', 39), ('from', 40), ('pensions', 41), ('not', 42), ('thank', 43), ('our', 44), ('we', 45), ('plan', 46), ('are', 47), ('date', 48), ('dear', 49), ('would', 50), ('aa', 51), ('road', 52), ('contact', 53), ('street', 54), ('me', 55), ('further', 56), ('could', 57), ('number', 58), ('will', 59), ('fund', 60), ('provide', 61), ('support', 62), ('centre', 63), ('tst', 64), ('request', 65), ('it', 66), ('kind', 67), ('re', 68), ('customer', 69), ('z', 70), ('benefits', 71), ('zz', 72), ('member', 73), ('confirm', 74), ('details', 75), ('good', 76), ('def', 77), ('has', 78), ('e', 79), ('do', 80), ('been', 81), ('mr', 82), ('an', 83), ('letter', 84), ('between', 85), ('pm', 86), ('regarding', 87), ('mail', 88), ('yours', 89), ('•', 90), ('value', 91), ('sincerely', 92), ('thanks', 93), ('friday', 94), ('received', 95), ('fin', 96), ('what', 97), ('monday', 98), ('alternatively', 99), ('hi', 100), ('was', 101), ('so', 102), ('by', 103), ('corp', 104), ('require', 105), ('attached', 106), ('change', 107), ('ifa', 108), ('questions', 109), ('sent', 110), ('full', 111), ('post', 112), ('insurance', 113), ('below', 114), ('now', 115), ('national', 116), ('there', 117), ('message', 118), ('update', 119), ('also', 120), ('–', 121), ('account', 122), ('reference', 123), ('which', 124), ('many', 125), ('all', 126), ('should', 127), ('queries', 128), ('know', 129), ('cetv', 130), ('death', 131), ('afternoon', 132), ('client', 133), ('payment', 134), ('morning', 135), ('above', 136), ('name', 137), ('age', 138), ('data', 139), ('no', 140), ('need', 141), ('hesitate', 142), ('cc', 143), ('response', 144), ('birth', 145), ('team', 146), ('ref', 147), ('original', 148), ('sum', 149), ('out', 150), ('receive', 151), ('but', 152), ('form', 153), ('advise', 154), ('find', 155), ('following', 156), ('requested', 157), ('current', 158), ('ltd', 159), ('wrote', 160), ('lump', 161), ('early', 162), ('january', 163), ('direct', 164), ('they', 165), ('dob', 166), ('gmp', 167), ('·', 168), ('how', 169), ('possible', 170), ('may', 171), ('answer', 172), ('verification', 173), ('st', 174), ('query', 175), ('accept', 176), ('high', 177), ('dial', 178), ('administration', 179), ('like', 180), ('within', 181), ('when', 182), ('enquiry', 183), ('purposes', 184), ('administrator', 185), ('amount', 186), ('into', 187), ('importance', 188), ('reply', 189), ('send', 190), ('mrs', 191), ('let', 192), ('cash', 193), ('enable', 194), ('fw', 195), ('helpline', 196), ('ni', 197), ('authority', 198), ('documents', 199), ('new', 200), ('does', 201), ('pre', 202), ('forward', 203), ('just', 204), ('section', 205), ('s', 206), ('tax', 207), ('records', 208), ('take', 209), ('member’s', 210), ('process', 211), ('£', 212), ('signed', 213), ('via', 214), ('see', 215), ('quote', 216), ('copy', 217), ('confirmation', 218), ('normal', 219), ('had', 220), ('apologies', 221), ('employee', 222), ('dated', 223), ('guarantee', 224), ('urgent', 225), ('wish', 226), ('look', 227), ('leaving', 228), ('factors', 229), ('before', 230), ('pack', 231), ('time', 232), ('note', 233), ('delay', 234), ('able', 235), ('order', 236), ('guaranteed', 237), ('password', 238), ('get', 239), ('paid', 240), ('th', 241), ('quotation', 242), ('statement', 243), ('correspondence', 244), ('one', 245), ('forwarded', 246), ('help', 247), ('abcd', 248), ('whether', 249), ('applied', 250), ('deferment', 251), ('basis', 252), ('department', 253), ('updated', 254), ('up', 255), ('october', 256), ('benefit', 257), ('contributory', 258), ('previous', 259), ('free', 260), ('issued', 261), ('due', 262), ('salaried', 263), ('including', 264), ('protected', 265), ('call', 266), ('shortly', 267), ('tel', 268), ('working', 269), ('days', 270), ('november', 271), ('completed', 272), ('payroll', 273), ('group', 274), ('o', 275), ('last', 276), ('grateful', 277), ('commutation', 278), ('advice', 279), ('encrypted', 280), ('required', 281), ('case', 282), ('funds', 283), ('bank', 284), ('options', 285), ('defined', 286), ('hello', 287), ('after', 288), ('phone', 289), ('made', 290), ('months', 291), ('however', 292), ('financial', 293), ('provided', 294), ('their', 295), ('service', 296), ('soon', 297), ('policy', 298), ('sir', 299), ('yet', 300), ('nov', 301), ('madam', 302), ('unable', 303), ('document', 304), ('these', 305), ('accordingly', 306), ('proceed', 307), ('very', 308), ('today', 309), ('forms', 310), ('transferred', 311), ('valuation', 312), ('additional', 313), ('members', 314), ('rate', 315), ('responding', 316), ('written', 317), ('annual', 318), ('back', 319), ('revaluation', 320), ('maximum', 321), ('only', 322), ('calculation', 323), ('com', 324), ('still', 325), ('access', 326), ('relevant', 327), ('correct', 328), ('nra', 329), ('relation', 330), ('taken', 331), ('taking', 332), ('t', 333), ('anything', 334), ('some', 335), ('home', 336), ('receiving', 337), ('receipt', 338), ('review', 339), ('year', 340), ('them', 341), ('his', 342), ('deferred', 343), ('excess', 344), ('where', 345), ('payable', 346), ('years', 347), ('checked', 348), ('clients', 349), ('logged', 350), ('company', 351), ('hearing', 352), ('pay', 353), ('showing', 354), ('funding', 355), ('partial', 356), ('option', 357), ('under', 358), ('about', 359), ('oct', 360), ('writing', 361), ('then', 362), ('final', 363), ('increases', 364), ('trust', 365), ('currently', 366), ('over', 367), ('surname', 368), ('payments', 369), ('each', 370), ('available', 371), ('period', 372), ('than', 373), ('until', 374), ('matter', 375), ('telephone', 376), ('\\ufeff', 377), ('complete', 378), ('trying', 379), ('i’m', 380), ('discharge', 381), ('allowed', 382), ('code', 383), ('contributions', 384), ('ask', 385), ('money', 386), ('someone', 387), ('next', 388), ('sirs', 389), ('most', 390), ('once', 391), ('advised', 392), ('format', 393), ('being', 394), ('print', 395), ('kindly', 396), ('both', 397), ('retire', 398), ('late', 399), ('upon', 400), ('he', 401), ('rpi', 402), ('used', 403), ('other', 404), ('changed', 405), ('sharing', 406), ('were', 407), ('different', 408), ('course', 409), ('transfers', 410), ('therefore', 411), ('iphone', 412), ('p', 413), ('advance', 414), ('without', 415), ('hope', 416), ('appreciate', 417), ('respect', 418), ('ensure', 419), ('reduction', 420), ('day', 421), ('applicable', 422), ('apply', 423), ('already', 424), ('did', 425), ('understand', 426), ('www', 427), ('deal', 428), ('tried', 429), ('link', 430), ('online', 431), ('go', 432), ('paperwork', 433), ('wxyz', 434), ('give', 435), ('previously', 436), ('september', 437), ('yes', 438), ('proof', 439), ('reduced', 440), ('office', 441), ('d', 442), ('b', 443), ('asked', 444), ('income', 445), ('expect', 446), ('entitlement', 447), ('membership', 448), ('position', 449), ('rates', 450), ('appreciated', 451), ('issue', 452), ('since', 453), ('contribution', 454), ('protection', 455), ('return', 456), ('held', 457), ('recent', 458), ('much', 459), ('month', 460), ('personal', 461), ('per', 462), ('ill', 463), ('health', 464), ('trustees', 465), ('recently', 466), ('same', 467), ('assistance', 468), ('nino', 469), ('documentation', 470), ('tfc', 471), ('two', 472), ('spouse’s', 473), ('moved', 474), ('providing', 475), ('included', 476), ('earliest', 477), ('such', 478), ('escalation', 479), ('rights', 480), ('state', 481), ('who', 482), ('asap', 483), ('m', 484), ('confirming', 485), ('why', 486), ('ago', 487), ('best', 488), ('make', 489), ('line', 490), ('revalued', 491), ('left', 492), ('december', 493), ('jan', 494), ('through', 495), ('assist', 496), ('allow', 497), ('fincorp', 498), ('avc', 499), ('using', 500), ('cannot', 501), ('warning', 502), ('april', 503), ('given', 504), ('emails', 505), ('factor', 506), ('follows', 507), ('include', 508), ('weeks', 509), ('respond', 510), ('sincerest', 511), ('figures', 512), ('wed', 513), ('based', 514), ('monthly', 515), ('again', 516), ('behalf', 517), ('more', 518), ('immediate', 519), ('hmrc', 520), ('june', 521), ('uk', 522), ('figure', 523), ('part', 524), ('mutual', 525), ('booklet', 526), ('latest', 527), ('spouse', 528), ('event', 529), ('formerly', 530), ('reset', 531), ('website', 532), ('former', 533), ('use', 534), ('adviser', 535), ('manager', 536), ('loa', 537), ('evening', 538), ('around', 539), ('portal', 540), ('start', 541), ('declaration', 542), ('sure', 543), ('either', 544), ('postal', 545), ('way', 546), ('july', 547), ('initial', 548), ('senior', 549), ('pot', 550), ('transferring', 551), ('activation', 552), ('hold', 553), ('returned', 554), ('postcode', 555), ('client’s', 556), ('opt', 557), ('salary', 558), ('splits', 559), ('fixed', 560), ('considering', 561), ('requirements', 562), ('info', 563), ('times', 564), ('unfortunately', 565), ('record', 566), ('circumstances', 567), ('breakdown', 568), ('increase', 569), ('old', 570), ('decision', 571), ('week', 572), ('application', 573), ('logging', 574), ('contacted', 575), ('several', 576), ('wanted', 577), ('nrd', 578), ('long', 579), ('issues', 580), ('appropriate', 581), ('claim', 582), ('abc’s', 583), ('dates', 584), ('open', 585), ('content', 586), ('check', 587), ('write', 588), ('g', 589), ('arrange', 590), ('during', 591), ('reflect', 592), ('detailed', 593), ('employer', 594), ('follow', 595), ('inform', 596), ('equalisation', 597), ('pensionable', 598), ('’', 599), ('must', 600), ('calculated', 601), ('cpi', 602), ('interest', 603), ('want', 604), ('inconvenience', 605), ('etc', 606), ('https', 607), ('contacting', 608), ('looking', 609), ('letters', 610), ('lmn', 611), ('believe', 612), ('her', 613), ('attention', 614), ('refer', 615), ('worked', 616), ('log', 617), ('mentioned', 618), ('list', 619), ('applies', 620), ('fri', 621), ('xx', 622), ('security', 623), ('report', 624), ('schedule', 625), ('mobile', 626), ('copies', 627), ('happy', 628), ('allowance', 629), ('concern', 630), ('system', 631), ('identity', 632), ('necessary', 633), ('getting', 634), ('error', 635), ('user', 636), ('set', 637), ('yourselves', 638), ('urgently', 639), ('understanding', 640), ('admin', 641), ('equalised', 642), ('main', 643), ('restrictions', 644), ('type', 645), ('pstr', 646), ('calls', 647), ('done', 648), ('well', 649), ('rules', 650), ('safe', 651), ('live', 652), ('don', 653), ('active', 654), ('amended', 655), ('benpal', 656), ('saying', 657), ('aware', 658), ('discretionary', 659), ('max', 660), ('actual', 661), ('wondering', 662), ('‘', 663), ('expression', 664), ('informed', 665), ('hear', 666), ('tell', 667), ('tue', 668), ('attachment', 669), ('first', 670), ('having', 671), ('joining', 672), ('convenience', 673), ('called', 674), ('gmt', 675), ('thu', 676), ('sep', 677), ('forecast', 678), ('whom', 679), ('id', 680), ('identified', 681), ('forename', 682), ('hoping', 683), ('progress', 684), ('ford', 685), ('release', 686), ('timescale', 687), ('ms', 688), ('obtain', 689), ('avcs', 690), ('actuarial', 691), ('scheme’s', 692), ('down', 693), ('screen', 694), ('file', 695), ('regard', 696), ('ghij', 697), ('earlier', 698), ('register', 699), ('potential', 700), ('future', 701), ('arrears', 702), ('life', 703), ('pcls', 704), ('complaint', 705), ('house', 706), ('few', 707), ('addition', 708), ('unreduced', 709), ('specify', 710), ('appears', 711), ('another', 712), ('result', 713), ('view', 714), ('said', 715), ('ve', 716), ('manage', 717), ('amend', 718), ('myself', 719), ('certificate', 720), ('along', 721), ('projected', 722), ('something', 723), ('heard', 724), ('commence', 725), ('handling', 726), ('credit', 727), ('requests', 728), ('orders', 729), ('fax', 730), ('click', 731), ('advising', 732), ('march', 733), ('assumed', 734), ('begin', 735), ('work', 736), ('estimated', 737), ('waiting', 738), ('certified', 739), ('cause', 740), ('plus', 741), ('question', 742), ('confirmed', 743), ('processed', 744), ('directly', 745), ('standard', 746), ('covid', 747), ('outstanding', 748), ('investigate', 749), ('attach', 750), ('secure', 751), ('revised', 752), ('commencement', 753), ('total', 754), ('court', 755), ('usa', 756), ('promptly', 757), ('annuity', 758), ('draw', 759), ('requesting', 760), ('assumptions', 761), ('c£', 762), ('k', 763), ('mob', 764), ('supply', 765), ('past', 766), ('equivalent', 767), ('present', 768), ('specific', 769), ('entitled', 770), ('accrual', 771), ('inflation', 772), ('split', 773), ('everything', 774), ('told', 775), ('login', 776), ('lost', 777), ('hard', 778), ('important', 779), ('haven’t', 780), ('minutes', 781), ('microsoft', 782), ('fwlink', 783), ('linkid', 784), ('windows', 785), ('prior', 786), ('always', 787), ('touch', 788), ('august', 789), ('n', 790), ('named', 791), ('invested', 792), ('enhanced', 793), ('beneficiaries', 794), ('effect', 795), ('relating', 796), ('pdf', 797), ('fwd', 798), ('importantly', 799), ('likely', 800), ('recorded', 801), ('ipad', 802), ('explanation', 803), ('marriage', 804), ('don’t', 805), ('wife', 806), ('percentage', 807), ('small', 808), ('preserved', 809), ('statutory', 810), ('consider', 811), ('version', 812), ('immediately', 813), ('page', 814), ('clarify', 815), ('making', 816), ('nature', 817), ('emailed', 818), ('keep', 819), ('approved', 820), ('frustrating', 821), ('sending', 822), ('stating', 823), ('continue', 824), ('wishes', 825), ('end', 826), ('trivial', 827), ('else', 828), ('asking', 829), ('deadline', 830), ('concerned', 831), ('revalue', 832), ('underpin', 833), ('tv', 834), ('affected', 835), ('earmarking', 836), ('warranty', 837), ('decided', 838), ('fee', 839), ('replies', 840), ('c', 841), ('finally', 842), ('purchase', 843), ('dealt', 844), ('automated', 845), ('status', 846), ('faithfully', 847), ('crystallised', 848), ('jlt', 849), ('refund', 850), ('spd', 851), ('added', 852), ('those', 853), ('contracted', 854), ('non', 855), ('leave', 856), ('every', 857), ('people', 858), ('too', 859), ('things', 860), ('going', 861), ('feel', 862), ('person', 863), ('sorry', 864), ('nothing', 865), ('username', 866), ('hours', 867), ('stated', 868), ('think', 869), ('pounds', 870), ('table', 871), ('values', 872), ('noted', 873), ('agent', 874), ('approximately', 875), ('action', 876), ('far', 877), ('close', 878), ('switch', 879), ('registered', 880), ('divorce', 881), ('purpose', 882), ('hence', 883), ('meantime', 884), ('notify', 885), ('took', 886), ('links', 887), ('show', 888), ('problem', 889), ('birthday', 890), ('dc', 891), ('higher', 892), ('u', 893), ('tower', 894), ('chennai', 895), ('off', 896), ('fact', 897), ('away', 898), ('even', 899), ('ea', 900), ('expedite', 901), ('supplied', 902), ('government', 903), ('here', 904), ('appear', 905), ('local', 906), ('simple', 907), ('subsequent', 908), ('deputy', 909), ('dpo', 910), ('answered', 911), ('rd', 912), ('because', 913), ('sort', 914), ('external', 915), ('quoted', 916), ('jul', 917), ('urgency', 918), ('point', 919), ('sipp', 920), ('deduction', 921), ('nat', 922), ('galaxy', 923), ('extension', 924), ('hopefully', 925), ('half', 926), ('annum', 927), ('http', 928), ('administrators', 929), ('assuming', 930), ('planning', 931), ('defg', 932), ('treated', 933), ('highlight', 934), ('differences', 935), ('compound', 936), ('employees', 937), ('outline', 938), ('quotations', 939), ('fully', 940), ('three', 941), ('rather', 942), ('encashment', 943), ('satisfactory', 944), ('delays', 945), ('business', 946), ('overseas', 947), ('speak', 948), ('chasing', 949), ('busy', 950), ('r', 951), ('conversation', 952), ('place', 953), ('despite', 954), ('helpdesk', 955), ('clarification', 956), ('estimate', 957), ('act', 958), ('schemes', 959), ('short', 960), ('sheet', 961), ('items', 962), ('according', 963), ('terms', 964), ('individual', 965), ('found', 966), ('valid', 967), ('price', 968), ('earnings', 969), ('policies', 970), ('addressed', 971), ('visitors', 972), ('locate', 973), ('anyone', 974), ('limited', 975), ('occurs', 976), ('beyond', 977), ('expired', 978), ('needs', 979), ('attachments', 980), ('initially', 981), ('wanting', 982), ('gave', 983), ('needed', 984), ('containing', 985), ('warmest', 986), ('share', 987), ('never', 988), ('projection', 989), ('situation', 990), ('resolution', 991), ('services', 992), ('she', 993), ('independent', 994), ('agreement', 995), ('referred', 996), ('associated', 997), ('enclosed', 998), ('mm', 999), ('submitted', 1000), ('investment', 1001), ('unit', 1002), ('holding', 1003), ('ongoing', 1004), ('level', 1005), ('haven', 1006), ('consent', 1007), ('actioned', 1008), ('scanned', 1009), ('job', 1010), ('turn', 1011), ('states', 1012), ('charge', 1013), ('producing', 1014), ('ddmmyyyy', 1015), ('charges', 1016), ('brown', 1017), ('bb', 1018), ('correctly', 1019), ('aged', 1020), ('generated', 1021), ('quotes', 1022), ('anticipate', 1023), ('determine', 1024), ('license', 1025), ('shown', 1026), ('deed', 1027), ('poll', 1028), ('passport', 1029), ('indicated', 1030), ('originals', 1031), ('ee', 1032), ('resent', 1033), ('while', 1034), ('stay', 1035), ('agree', 1036), ('grounds', 1037), ('leatherhead', 1038), ('retired', 1039), ('advisor', 1040), ('basically', 1041), ('obviously', 1042), ('await', 1043), ('india', 1044), ('caused', 1045), ('virus', 1046), ('arranged', 1047), ('exactly', 1048), ('altered', 1049), ('seems', 1050), ('identification', 1051), ('mon', 1052), ('x', 1053), ('yourself', 1054), ('withdraw', 1055), ('literature', 1056), ('actually', 1057), ('moving', 1058), ('incorrect', 1059), ('ran', 1060), ('example', 1061), ('changing', 1062), ('setting', 1063), ('australia', 1064), ('”', 1065), ('wonder', 1066), ('chosen', 1067), ('expires', 1068), ('separate', 1069), ('reviewed', 1070), ('move', 1071), ('although', 1072), ('resolve', 1073), ('accident', 1074), ('cover', 1075), ('informing', 1076), ('provider', 1077), ('notification', 1078), ('greatly', 1079), ('reason', 1080), ('ins', 1081), ('wednesday', 1082), ('light', 1083), ('daughter', 1084), ('create', 1085), ('emailing', 1086), ('mum', 1087), ('gone', 1088), ('ie', 1089), ('mention', 1090), ('helpful', 1091), ('technical', 1092), ('missed', 1093), ('looked', 1094), ('commute', 1095), ('minimum', 1096), ('results', 1097), ('answers', 1098), ('duly', 1099), ('yrs', 1100), ('contained', 1101), ('ir', 1102), ('contracting', 1103), ('mixed', 1104), ('members’', 1105), ('club', 1106), ('insistent', 1107), ('discretion', 1108), ('implementation', 1109), ('vat', 1110), ('remaining', 1111), ('drawing', 1112), ('come', 1113), ('expiry', 1114), ('started', 1115), ('text', 1116), ('separately', 1117), ('projections', 1118), ('enclose', 1119), ('offices', 1120), ('pandemic', 1121), ('care', 1122), ('ignore', 1123), ('beneficiary', 1124), ('fao', 1125), ('notes', 1126), ('indicate', 1127), ('hasn’t', 1128), ('promise', 1129), ('lta', 1130), ('occupational', 1131), ('rest', 1132), ('eta', 1133), ('identify', 1134), ('accordance', 1135), ('regulations', 1136), ('training', 1137), ('intend', 1138), ('db', 1139), ('step', 1140), ('serious', 1141), ('significant', 1142), ('dser', 1143), ('i’ve', 1144), ('confirms', 1145), ('invest', 1146), ('permit', 1147), ('tranches', 1148), ('children’s', 1149), ('areas', 1150), ('enquire', 1151), ('lifetime', 1152), ('amounts', 1153), ('item', 1154), ('“transferred', 1155), ('prepared', 1156), ('realize', 1157), ('staff', 1158), ('larry', 1159), ('harry', 1160), ('cmg', 1161), ('dixons', 1162), ('man', 1163), ('termination', 1164), ('drawdown', 1165), ('formal', 1166), ('ombudsman', 1167), ('spouses', 1168), ('ages', 1169), ('adjustment', 1170), ('changes', 1171), ('avc’s', 1172), ('questionnaire', 1173), ('exercise', 1174), ('internet', 1175), ('entering', 1176), ('general', 1177), ('summary', 1178), ('underfunded', 1179), ('measure', 1180), ('formula', 1181), ('partner', 1182), ('defer', 1183), ('worried', 1184), ('run', 1185), ('read', 1186), ('scams', 1187), ('bad', 1188), ('earned', 1189), ('savings', 1190), ('cancel', 1191), ('really', 1192), ('talk', 1193), ('legal', 1194), ('spoken', 1195), ('“xxx”', 1196), ('didn’t', 1197), ('france', 1198), ('uppercase', 1199), ('passing', 1200), ('lead', 1201), ('discuss', 1202), ('instead', 1203), ('compensation', 1204), ('acknowledgement', 1205), ('reviewing', 1206), ('points', 1207), ('takes', 1208), ('revalues', 1209), ('industries', 1210), ('own', 1211), ('dd', 1212), ('yyyy', 1213), ('selected', 1214), ('illustration', 1215), ('wished', 1216), ('thus', 1217), ('fscs', 1218), ('dress', 1219), ('internal', 1220), ('spoke', 1221), ('booked', 1222), ('produced', 1223), ('colour', 1224), ('sunset', 1225), ('clock', 1226), ('cheers', 1227), ('anomaly', 1228), ('explained', 1229), ('showed', 1230), ('zero', 1231), ('min', 1232), ('clearly', 1233), ('later', 1234), ('lower', 1235), ('retiring', 1236), ('optimal', 1237), ('unless', 1238), ('recognise', 1239), ('sender', 1240), ('submit', 1241), ('driving', 1242), ('lockdown', 1243), ('rbc', 1244), ('opportunity', 1245), ('recommendation', 1246), ('less', 1247), ('approval', 1248), ('homie', 1249), ('lpi', 1250), ('accrued', 1251), ('london', 1252), ('happening', 1253), ('top', 1254), ('speed', 1255), ('xxx', 1256), ('train', 1257), ('thereafter', 1258), ('card', 1259), ('forgotten', 1260), ('activated', 1261), ('experiencing', 1262), ('delivered', 1263), ('reach', 1264), ('mailto', 1265), ('building', 1266), ('officially', 1267), ('method', 1268), ('upper', 1269), ('identifying', 1270), ('proving', 1271), ('apr', 1272), ('originally', 1273), ('documentary', 1274), ('evidence', 1275), ('decree', 1276), ('absolute', 1277), ('delivery', 1278), ('mailing', 1279), ('references', 1280), ('dep', 1281), ('seq', 1282), ('inits', 1283), ('yeda', 1284), ('accidentally', 1285), ('matches', 1286), ('sharepoint', 1287), ('wedding', 1288), ('cert', 1289), ('checking', 1290), ('accuracy', 1291), ('longer', 1292), ('joint', 1293), ('coming', 1294), ('posted', 1295), ('great', 1296), ('released', 1297), ('choices', 1298), ('responsible', 1299), ('right', 1300), ('enrolment', 1301), ('problems', 1302), ('replied', 1303), ('detail', 1304), ('opted', 1305), ('processing', 1306), ('try', 1307), ('won', 1308), ('entered', 1309), ('says', 1310), ('recognised', 1311), ('bheem', 1312), ('sun', 1313), ('acquire', 1314), ('verify', 1315), ('accommodation', 1316), ('suffered', 1317), ('telling', 1318), ('can’t', 1319), ('perhaps', 1320), ('recalculate', 1321), ('f', 1322), ('outside', 1323), ('pensioner', 1324), ('mercer', 1325), ('xyzz', 1326), ('accurate', 1327), ('approaching', 1328), ('warm', 1329), ('remain', 1330), ('uurbs', 1331), ('concerning', 1332), ('couple', 1333), ('communication', 1334), ('methods', 1335), ('listed', 1336), ('match', 1337), ('navigate', 1338), ('displays', 1339), ('green', 1340), ('convert', 1341), ('adobe', 1342), ('produce', 1343), ('satisfies', 1344), ('operations', 1345), ('director', 1346), ('rr', 1347), ('expectations', 1348), ('together', 1349), ('supported', 1350), ('track', 1351), ('employment', 1352), ('voluntary', 1353), ('avoid', 1354), ('variable', 1355), ('associate', 1356), ('registering', 1357), ('sealed', 1358), ('acknowledged', 1359), ('whenever', 1360), ('disconnected', 1361), ('calling', 1362), ('notice', 1363), ('expected', 1364), ('joined', 1365), ('gain', 1366), ('thought', 1367), ('cba', 1368), ('respectfully', 1369), ('kindest', 1370), ('decide', 1371), ('ending', 1372), ('xxxx', 1373), ('ll', 1374), ('little', 1375), ('dec', 1376), ('self', 1377), ('reported', 1378), ('taxable', 1379), ('additionally', 1380), ('loggin', 1381), ('slow', 1382), ('coronavirus', 1383), ('simply', 1384), ('sunday', 1385), ('enquiries', 1386), ('nil', 1387), ('uploaded', 1388), ('happened', 1389), ('diligence', 1390), ('guarantees', 1391), ('minimise', 1392), ('payed', 1393), ('opened', 1394), ('dating', 1395), ('ringing', 1396), ('becoming', 1397), ('tha', 1398), ('cgi', 1399), ('blocks', 1400), ('minor', 1401), ('gross', 1402), ('net', 1403), ('holds', 1404), ('definition', 1405), ('dependent', 1406), ('thanking', 1407), ('balance', 1408), ('paying', 1409), ('resulting', 1410), ('depending', 1411), ('steps', 1412), ('ensures', 1413), ('excluding', 1414), ('holidays', 1415), ('monitoring', 1416), ('reveiw', 1417), ('rome', 1418), ('fos', 1419), ('miss', 1420), ('commuting', 1421), ('against', 1422), ('paraplanner', 1423), ('managers', 1424), ('cost', 1425), ('conflicting', 1426), ('paye', 1427), ('eow', 1428), ('chacha', 1429), ('salsa', 1430), ('scan', 1431), ('university', 1432), ('tells', 1433), ('length', 1434), ('extending', 1435), ('dealing', 1436), ('face', 1437), ('ideal', 1438), ('involved', 1439), ('braille', 1440), ('considered', 1441), ('dsg', 1442), ('andaman', 1443), ('nicobar', 1444), ('bst', 1445), ('onto', 1446), ('starting', 1447), ('son’s', 1448), ('appointee', 1449), ('registration', 1450), ('actuary', 1451), ('bridging', 1452), ('reached', 1453), ('rule', 1454), ('thumb', 1455), ('excel', 1456), ('ap', 1457), ('least', 1458), ('“the', 1459), ('average', 1460), ('growth', 1461), ('computes', 1462), ('respectively', 1463), ('year’s', 1464), ('lacks', 1465), ('seem', 1466), ('key', 1467), ('increased', 1468), ('pension”', 1469), ('shows', 1470), ('overall', 1471), ('keeping', 1472), ('unprecedented', 1473), ('indication', 1474), ('sincere', 1475), ('pride', 1476), ('ourselves', 1477), ('quality', 1478), ('deliver', 1479), ('corporate', 1480), ('relatively', 1481), ('complaints', 1482), ('seriously', 1483), ('matters', 1484), ('quite', 1485), ('appreciatively', 1486), ('weekly', 1487), ('we’ve', 1488), ('investigated', 1489), ('costs', 1490), ('parry', 1491), ('payyor', 1492), ('ss', 1493), ('tt', 1494), ('stone', 1495), ('acknowledging', 1496), ('five', 1497), ('doing', 1498), ('nin', 1499), ('accepted', 1500), ('secured', 1501), ('accounts', 1502), ('rnib', 1503), ('anticipation', 1504), ('barber', 1505), ('single', 1506), ('leaflet', 1507), ('longevity', 1508), ('ruling', 1509), ('european', 1510), ('justice', 1511), ('qrst', 1512), ('trustee’s', 1513), ('sihc', 1514), ('offered', 1515), ('whole', 1516), ('uncrystallised', 1517), ('withdrawal', 1518), ('csc', 1519), ('lines', 1520), ('supplier', 1521), ('remainder', 1522), ('plans', 1523), ('connection', 1524), ('features', 1525), ('might', 1526), ('covered', 1527), ('market', 1528), ('involving', 1529), ('waterup', 1530), ('portfolio', 1531), ('timescales', 1532), ('reducing', 1533), ('confidential', 1534), ('whilst', 1535), ('appointment', 1536), ('attend', 1537), ('persistent', 1538), ('cough', 1539), ('temperature', 1540), ('sense', 1541), ('taste', 1542), ('smell', 1543), ('sanitise', 1544), ('adhere', 1545), ('social', 1546), ('distancing', 1547), ('guidelines', 1548), ('families', 1549), ('quickly', 1550), ('third', 1551), ('delayed', 1552), ('screenshot', 1553), ('zip', 1554), ('chairman', 1555), ('helps', 1556), ('numbers', 1557), ('reflects', 1558), ('become', 1559), ('lrp', 1560), ('calculating', 1561), ('civil', 1562), ('sign', 1563), ('thursday', 1564), ('incomplete', 1565), ('completely', 1566), ('apology', 1567), ('helping', 1568), ('reading', 1569), ('big', 1570), ('wage', 1571), ('goes', 1572), ('thousands', 1573), ('vr', 1574), ('ten', 1575), ('dont', 1576), ('intouch', 1577), ('letting', 1578), ('iam', 1579), ('buy', 1580), ('apparently', 1581), ('lose', 1582), ('goth', 1583), ('highway', 1584), ('hell', 1585), ('chalis', 1586), ('chaurasia', 1587), ('la', 1588), ('hila', 1589), ('martial', 1590), ('art', 1591), ('bhun', 1592), ('alexa', 1593), ('siri', 1594), ('yorkshire', 1595), ('water', 1596), ('nh', 1597), ('tvaut', 1598), ('pieces', 1599), ('correspendence', 1600), ('previosuly', 1601), ('‘def', 1602), ('sum’', 1603), ('mentions', 1604), ('eligible', 1605), ('opportuntiy', 1606), ('‘opt', 1607), ('in’', 1608), ('winding', 1609), ('easier', 1610), ('addresses', 1611), ('previosu', 1612), ('suitable', 1613), ('ddi', 1614), ('explain', 1615), ('agreed', 1616), ('compensate', 1617), ('‘fixed', 1618), ('addition’', 1619), ('tranche', 1620), ('specifically', 1621), ('machine', 1622), ('tool', 1623), ('bredbury', 1624), ('stockport', 1625), ('gratefully', 1626), ('submission', 1627), ('unreadable', 1628), ('units', 1629), ('sedol', 1630), ('codes', 1631), ('history', 1632), ('nominated', 1633), ('auto', 1634), ('extra', 1635), ('contain', 1636), ('hall’s', 1637), ('generally', 1638), ('representatives', 1639), ('david', 1640), ('elapsed', 1641), ('apricate', 1642), ('callers', 1643), ('policyholder', 1644), ('policyholder’s', 1645), ('category', 1646), ('implementing', 1647), ('mark', 1648), ('nocolour', 1649), ('clarant', 1650), ('ride', 1651), ('teakwood', 1652), ('greenland', 1653), ('penselvansey', 1654), ('bay', 1655), ('east', 1656), ('bn', 1657), ('remember', 1658), ('whereas', 1659), ('slightly', 1660), ('returning', 1661), ('anomalous', 1662), ('requiring', 1663), ('particularly', 1664), ('caution', 1665), ('originates', 1666), ('jaguarlandrover', 1667), ('source', 1668), ('jaguar', 1669), ('fyi', 1670), ('upheld', 1671), ('wondered', 1672), ('prompt', 1673), ('drivers', 1674), ('pleased', 1675), ('body', 1676), ('\\ufeffplease', 1677), ('discounted', 1678), ('grandfathered', 1679), ('picked', 1680), ('jlr', 1681), ('naonal', 1682), ('intending', 1683), ('beginning', 1684), ('die', 1685), ('duration', 1686), ('presume', 1687), ('welcome', 1688), ('commencing', 1689), ('gp', 1690), ('diagnosed', 1691), ('aggressive', 1692), ('brain', 1693), ('tumour', 1694), ('authorisation', 1695), ('horgan', 1696), ('ip', 1697), ('element', 1698), ('amounted', 1699), ('eletricity', 1700), ('happen', 1701), ('comes', 1702), ('cables', 1703), ('managing', 1704), ('advisor’s', 1705), ('authorised', 1706), ('guys', 1707), ('belief', 1708), ('privileges', 1709), ('rang', 1710), ('nearly', 1711), ('hour', 1712), ('acceptable', 1713), ('earning', 1714), ('h', 1715), ('regards\\u200b', 1716), ('\\u200b', 1717), ('proceeding', 1718), ('running', 1719), ('deliveries', 1720), ('worry', 1721), ('choosing', 1722), ('largest', 1723), ('deposited', 1724), ('passports', 1725), ('adhaar', 1726), ('oci', 1727), ('indian', 1728), ('endorse', 1729), ('relationship', 1730), ('nd', 1731), ('ex', 1732), ('strike', 1733), ('means', 1734), ('sat', 1735), ('news', 1736), ('suspect', 1737), ('sheer', 1738), ('distance', 1739), ('combined', 1740), ('logistical', 1741), ('challenges', 1742), ('teach', 1743), ('usually', 1744), ('silent', 1745), ('advisable', 1746), ('tuesday', 1747), ('firstly', 1748), ('designate', 1749), ('secondly', 1750), ('alternative', 1751), ('activating', 1752), ('corresponded', 1753), ('fairly', 1754), ('resolving', 1755), ('hijk', 1756), ('middle', 1757), ('filled', 1758), ('won’t', 1759), ('mean', 1760), ('affect', 1761), ('goff', 1762), ('maiden', 1763), ('enquiring', 1764), ('frozen', 1765), ('apos', 1766), ('aaa', 1767), ('rgb', 1768), ('upping', 1769), ('allows', 1770), ('reissue', 1771), ('banks', 1772), ('honouring', 1773), ('cheques', 1774), ('critical', 1775), ('indeed', 1776), ('“abc', 1777), ('pesnions', 1778), ('supervisor', 1779), ('hr', 1780), ('welfare', 1781), ('tets', 1782), ('effects', 1783), ('notion', 1784), ('frame', 1785), ('elected', 1786), ('chain', 1787), ('thee', 1788), ('irregular', 1789), ('direction', 1790), ('isn’t', 1791), ('‘gee', 1792), ('up’', 1793), ('subscription', 1794), ('covers', 1795), ('cigna', 1796), ('definitely', 1797), ('reagrds', 1798), ('sufficient', 1799), ('unused', 1800), ('doesn', 1801), ('recogise', 1802), ('add', 1803), ('fix', 1804), ('ian', 1805), ('mills', 1806), ('ease', 1807), ('loundon', 1808), ('consulting', 1809), ('cdsid', 1810), ('bizflow', 1811), ('mother', 1812), ('num', 1813), ('sheltered', 1814), ('chased', 1815), ('retained', 1816), ('supporting', 1817), ('heart', 1818), ('attack', 1819), ('hospital', 1820), ('angiogram', 1821), ('unnecessary', 1822), ('stress', 1823), ('you’ve', 1824), ('horrendous', 1825), ('corrected', 1826), ('escalate', 1827), ('needing', 1828), ('displayed', 1829), ('manually', 1830), ('trail', 1831), ('cut', 1832), ('feed', 1833), ('lisa', 1834), ('pensioners', 1835), ('consultant', 1836), ('alert', 1837), ('originated', 1838), ('network', 1839), ('cautious', 1840), ('clicking', 1841), ('research', 1842), ('analyst', 1843), ('administered', 1844), ('retires', 1845), ('fast', 1846), ('conclude', 1847), ('zzzz', 1848), ('parties', 1849), ('pso', 1850), ('activate', 1851), ('related', 1852), ('worth', 1853), ('annually', 1854), ('commuted', 1855), ('phoned', 1856), ('finding', 1857), ('ae', 1858), ('updates', 1859), ('newsletters', 1860), ('class', 1861), ('rm', 1862), ('warrantee', 1863), ('relayed', 1864), ('uvw', 1865), ('owing', 1866), ('colleague', 1867), ('directions', 1868), ('monies', 1869), ('rrrrrrrrrrrrrrr', 1870), ('relations', 1871), ('acceptance', 1872), ('querying', 1873), ('zni', 1874), ('engine', 1875), ('manufacturing', 1876), ('adress', 1877), ('witchwood', 1878), ('lane', 1879), ('kawali', 1880), ('red', 1881), ('fort', 1882), ('required…dob', 1883), ('management', 1884), ('\\xad\\xad\\xadrequest', 1885), ('it’s', 1886), ('redundancy', 1887), ('redundant', 1888), ('motor', 1889), ('assess', 1890), ('typed', 1891), ('seal', 1892), ('imprinted', 1893), ('bottom', 1894), ('organisations', 1895), ('reinstate', 1896), ('rep', 1897), ('seemed', 1898), ('sighed', 1899), ('interaction', 1900), ('express', 1901), ('verified', 1902), ('rely', 1903), ('heavily', 1904), ('unfortunate', 1905), ('discontinued', 1906), ('proper', 1907), ('agents', 1908), ('rude', 1909), ('dropped', 1910), ('location', 1911), ('assured', 1912), ('normally', 1913), ('bonjour', 1914), ('booklets', 1915), ('wa', 1916), ('ua', 1917), ('logan', 1918), ('stint', 1919), ('residential', 1920), ('affairs', 1921), ('attorney', 1922), ('payslip', 1923), ('thankyou', 1924), ('foster', 1925), ('ab', 1926), ('keen', 1927), ('forget', 1928), ('ìronic', 1929), ('thing', 1930), ('chargeable', 1931), ('customers', 1932), ('listening', 1933), ('robot', 1934), ('caller', 1935), ('frustrated', 1936), ('slip', 1937), ('giving', 1938), ('puzzled', 1939), ('authenticity', 1940), ('latter', 1941), ('existence', 1942), ('dual', 1943), ('citizen', 1944), ('resident', 1945), ('calendar', 1946), ('revenue', 1947), ('substitute', 1948), ('attempts', 1949), ('payer', 1950), ('periodic', 1951), ('mar', 1952), ('supposed', 1953), ('exemption', 1954), ('treaty', 1955), ('promised', 1956), ('ps', 1957), ('expecting', 1958), ('define', 1959), ('representative', 1960), ('voice', 1961), ('handle', 1962), ('desk', 1963), ('suppose', 1964), ('pressed', 1965), ('moment', 1966), ('reads', 1967), ('remained', 1968), ('checks', 1969), ('wet', 1970), ('signature', 1971), ('extent', 1972), ('generate', 1973), ('unnecessarily', 1974), ('duplicated', 1975), ('needlessly', 1976), ('father', 1977), ('connected', 1978), ('cap', 1979), ('earners', 1980), ('marital', 1981), ('choose', 1982), ('appropriately', 1983), ('uncrystallized', 1984), ('platform', 1985), ('interested', 1986), ('uptodate', 1987), ('benifit', 1988), ('statment', 1989), ('reasons', 1990), ('varification', 1991), ('benifits', 1992), ('gives', 1993), ('emploee', 1994), ('belived', 1995), ('referance', 1996), ('christopher', 1997), ('pearce', 1998), ('dop', 1999), ('honest', 2000), ('neither', 2001), ('conversations', 2002), ('nutshell', 2003), ('‘small', 2004), ('pots', 2005), ('rule’', 2006), ('ludicrous', 2007), ('ring', 2008), ('occasion', 2009), ('pass', 2010), ('whatsoever', 2011), ('incidentally', 2012), ('orignially', 2013), ('actuarily', 2014), ('conform', 2015), ('exact', 2016), ('recieved', 2017), ('electricity', 2018), ('transformer', 2019), ('leathe', 2020), ('bits', 2021), ('quotian', 2022), ('\\u200bhi', 2023), ('handed', 2024), ('intended', 2025), ('choice', 2026), ('combine', 2027), ('web', 2028), ('site', 2029), ('prefer', 2030), ('excuse', 2031), ('knowledge', 2032), ('jargon', 2033), ('anybody', 2034), ('intention', 2035), ('estimates', 2036), ('phrase', 2037), ('certainly', 2038), ('collect', 2039), ('aim', 2040), ('flagged', 2041), ('‘personal’', 2042), ('‘private’', 2043), ('‘confidential’', 2044), ('hidden', 2045), ('resend', 2046), ('removing', 2047), ('flag', 2048), ('fill', 2049), ('living', 2050), ('student', 2051), ('barclays', 2052), ('spent', 2053), ('retrieve', 2054), ('complex', 2055), ('fundas', 2056), ('scientist', 2057), ('sainsbury', 2058), ('argos', 2059), ('teachers', 2060), ('hand', 2061), ('printed', 2062), ('electronically', 2063), ('refers', 2064), ('indicates', 2065), ('leaves', 2066), ('gathering', 2067), ('experienced', 2068), ('feels', 2069), ('scenario', 2070), ('bear', 2071), ('mind', 2072), ('difficulties', 2073), ('companies', 2074), ('accessible', 2075), ('firm', 2076), ('meetings', 2077), ('interval', 2078), ('suggest', 2079), ('window', 2080), ('inquiring', 2081), ('coaching', 2082), ('coooaa', 2083), ('lr', 2084), ('va', 2085), ('closed', 2086), ('saturday', 2087), ('completing', 2088), ('systems', 2089), ('commenced', 2090), ('assessment', 2091), ('travel', 2092), ('correspondent', 2093), ('son', 2094), ('corespondent', 2095), ('facilitate', 2096), ('accompanying', 2097), ('holder', 2098), ('insured', 2099), ('stage', 2100), ('rough', 2101), ('acting', 2102), ('basic', 2103), ('franking', 2104), ('difference', 2105), ('sensitive', 2106), ('smiths', 2107), ('correction', 2108), ('size', 2109), ('sips', 2110), ('“nra”', 2111), ('multiply', 2112), ('“ap”', 2113), ('attempted', 2114), ('project', 2115), ('range', 2116), ('unlikely', 2117), ('applying', 2118), ('passes', 2119), ('proportion', 2120), ('ought', 2121), ('arrived', 2122), ('unexplainably', 2123), ('low', 2124), ('accustomed', 2125), ('explains', 2126), ('sudden', 2127), ('inconsistent', 2128), ('attaching', 2129), ('comments', 2130), ('official', 2131), ('augmented', 2132), ('“scheme', 2133), ('gmp”', 2134), ('mathematically', 2135), ('emphasize', 2136), ('import', 2137), ('combining', 2138), ('issuance', 2139), ('tabulates', 2140), ('component', 2141), ('confirmatory', 2142), ('narrative', 2143), ('aligns', 2144), ('benefits’', 2145), ('safely', 2146), ('automatically', 2147), ('ready', 2148), ('noticed', 2149), ('aligned', 2150), ('valuations', 2151), ('nor', 2152), ('abreast', 2153), ('progressing', 2154), ('priorities', 2155), ('permits', 2156), ('tend', 2157), ('lot', 2158), ('sit', 2159), ('dissatisfaction', 2160), ('wait', 2161), ('extend', 2162), ('reassured', 2163), ('seek', 2164), ('occasions', 2165), ('arise', 2166), ('ypu', 2167), ('\\ufeffhello', 2168), ('minimal', 2169), ('honor', 2170), ('proposed', 2171), ('met', 2172), ('twelve', 2173), ('recalculation', 2174), ('incl', 2175), ('‘member’s', 2176), ('number’', 2177), ('scans', 2178), ('tranfer', 2179), ('certifed', 2180), ('contingent', 2181), ('includes', 2182), ('safeguarded', 2183), ('specialist', 2184), ('growing', 2185), ('elsewhere', 2186), ('burger', 2187), ('fries', 2188), ('ser', 2189), ('polite', 2190), ('enough', 2191), ('indicative', 2192), ('forecasts', 2193), ('namely', 2194), ('examine', 2195), ('delaying', 2196), ('felt', 2197), ('julie', 2198), ('larryharry', 2199), ('gmail', 2200), ('stores', 2201), ('avilon', 2202), ('meham', 2203), ('swiss', 2204), ('margrate', 2205), ('mojito', 2206), ('burgman', 2207), ('sea', 2208), ('summerset', 2209), ('stephen', 2210), ('notified', 2211), ('erf', 2212), ('‘receiving', 2213), ('warranty’', 2214), ('placed', 2215), ('investments', 2216), ('regular', 2217), ('acst', 2218), ('equiry', 2219), ('bring', 2220), ('sets', 2221), ('prioritise', 2222), ('informs', 2223), ('findings', 2224), ('obstructively', 2225), ('regret', 2226), ('concerns', 2227), ('raised', 2228), ('endeavour', 2229), ('instructed', 2230), ('sept', 2231), ('obstructing', 2232), ('pursue', 2233), ('referring', 2234), ('prove', 2235), ('happens', 2236), ('wasn', 2237), ('meets', 2238), ('jaiden', 2239), ('solicitor', 2240), ('stalled', 2241), ('revaluated', 2242), ('qrops', 2243), ('enhancement', 2244), ('younger', 2245), ('messed', 2246), ('guess', 2247), ('upset', 2248), ('acknowledge', 2249), ('possibility', 2250), ('electronic', 2251), ('adopted', 2252), ('templates', 2253), ('‘test', 2254), ('case’', 2255), ('template', 2256), ('recovery', 2257), ('obtainable', 2258), ('illustrations', 2259), ('guides', 2260), ('regulator', 2261), ('permitting', 2262), ('freeze', 2263), ('activity', 2264), ('suspended', 2265), ('suspend', 2266), ('yields', 2267), ('implemented', 2268), ('favourable', 2269), ('assumption', 2270), ('‘ill', 2271), ('health’', 2272), ('approach', 2273), ('sums', 2274), ('extinguish', 2275), ('expressed', 2276), ('residual', 2277), ('offer', 2278), ('pie', 2279), ('exchange', 2280), ('dependant’s', 2281), ('temporary', 2282), ('fall', 2283), ('spa', 2284), ('rounded', 2285), ('index', 2286), ('operate', 2287), ('anniversary', 2288), ('intends', 2289), ('consideration', 2290), ('pro', 2291), ('rata', 2292), ('across', 2293), ('elements', 2294), ('slices', 2295), ('bulk', 2296), ('dependants', 2297), ('flexibilities', 2298), ('impact', 2299), ('introduction', 2300), ('freedoms', 2301), ('offering', 2302), ('flexi', 2303), ('crystallisations', 2304), ('marked', 2305), ('obtained', 2306), ('there’s', 2307), ('though', 2308), ('seeing', 2309), ('extended', 2310), ('nbr', 2311), ('messages', 2312), ('workloads', 2313), ('turnaround', 2314), ('private', 2315), ('subsequently', 2316), ('penison', 2317), ('potentially', 2318), ('guide', 2319), ('dependant', 2320), ('reaching', 2321), ('resulted', 2322), ('increasing', 2323), ('formally', 2324), ('husband', 2325), ('reaches', 2326), ('newsblast', 2327), ('brief', 2328), ('capped', 2329), ('flexible', 2330), ('bces', 2331), ('bce', 2332), ('ear', 2333), ('marking', 2334), ('contains', 2335), ('fsavcs', 2336), ('awhile', 2337), ('instance', 2338), ('confirmations', 2339), ('j', 2340), ('sss', 2341), ('luke', 2342), ('londonberry', 2343), ('district', 2344), ('speedy', 2345), ('monitor', 2346), ('improve', 2347), ('au', 2348), ('finds', 2349), ('investacc', 2350), ('copied', 2351), ('addtional', 2352), ('selves', 2353), ('dubai', 2354), ('shady', 2355), ('legitimate', 2356), ('wealthy', 2357), ('financially', 2358), ('trustee', 2359), ('cid', 2360), ('image', 2361), ('png', 2362), ('ce', 2363), ('bbd', 2364), ('comfortable', 2365), ('liaise', 2366), ('eligibility', 2367), ('resubmit', 2368), ('thinking', 2369), ('parts', 2370), ('institution', 2371), ('older', 2372), ('overpayment', 2373), ('cob', 2374), ('nationwide', 2375), ('actioning', 2376), ('’s', 2377), ('its', 2378), ('authorise', 2379), ('xyz’s', 2380), ('preferably', 2381), ('meanwhile', 2382), ('instigate', 2383), ('recommended', 2384), ('obliged', 2385), ('enclosures', 2386), ('world', 2387), ('awaiting', 2388), ('somewhat', 2389), ('confusing', 2390), ('charlene', 2391), ('numerous', 2392), ('invoice', 2393), ('got', 2394), ('kindle', 2395), ('priority', 2396), ('§', 2397), ('gars', 2398), ('fca', 2399), ('regulated', 2400), ('properly', 2401), ('asks', 2402), ('put', 2403), ('makes', 2404), ('gmps', 2405), ('judgment', 2406), ('lloyds', 2407), ('“you”', 2408), ('role', 2409), ('preparation', 2410), ('complies', 2411), ('reporting', 2412), ('council’s', 2413), ('tas', 2414), ('sole', 2415), ('“user”', 2416), ('material', 2417), ('deriving', 2418), ('determined', 2419), ('preparing', 2420), ('relied', 2421), ('outlined', 2422), ('reasonable', 2423), ('gauge', 2424), ('reliability', 2425), ('completeness', 2426), ('accepts', 2427), ('responsibility', 2428), ('liable', 2429), ('errors', 2430), ('misrepresentations', 2431), ('party', 2432), ('prints', 2433), ('levelling', 2434), ('tracing', 2435), ('manages', 2436), ('guidance', 2437), ('organisation', 2438), ('mislaid', 2439), ('realised', 2440), ('pair', 2441), ('characters', 2442), ('cooperation', 2443), ('allowing', 2444), ('ctc', 2445), ('columns', 2446), ('onwards', 2447), ('xxxxxxxxx', 2448), ('royal', 2449), ('redirecting', 2450), ('landline', 2451), ('colleagues', 2452), ('seconded', 2453), ('region', 2454), ('oban', 2455), ('area', 2456), ('significantly', 2457), ('confidence', 2458), ('decisions', 2459), ('grab', 2460), ('payrole', 2461), ('protect', 2462), ('threats', 2463), ('clickable', 2464), ('visit', 2465), ('paste', 2466), ('browser', 2467), ('automatic', 2468), ('vesting', 2469), ('tooray', 2470), ('types', 2471), ('dependent’s', 2472), ('qualifying', 2473), ('criteria', 2474), ('linked', 2475)])"
      ]
     },
     "execution_count": 54,
     "metadata": {},
     "output_type": "execute_result"
    }
   ],
   "source": [
    "tokenizer.word_index.items()"
   ]
  },
  {
   "cell_type": "code",
   "execution_count": 57,
   "metadata": {},
   "outputs": [],
   "source": [
    "from gensim.test.utils import datapath, get_tmpfile\n",
    "from gensim.models import KeyedVectors\n",
    "from gensim.scripts.glove2word2vec import glove2word2vec"
   ]
  },
  {
   "cell_type": "code",
   "execution_count": 62,
   "metadata": {},
   "outputs": [],
   "source": [
    "path = app_dir / 'data' # path where GloVe embeddings (txt file) is situated\n",
    "\n",
    "glove_file = datapath(path / 'glove.6B.300d.txt')\n",
    "tmp_file = get_tmpfile(path / 'word2vec.glove.6B.300d.txt')\n",
    "glove2word2vec(glove_file, tmp_file) # Converting the GloVe file into a Word2Vec file=\n",
    "embeddings = KeyedVectors.load_word2vec_format(tmp_file)\n",
    "embedding_size = embeddings['test'].shape[0]"
   ]
  },
  {
   "cell_type": "code",
   "execution_count": 63,
   "metadata": {},
   "outputs": [],
   "source": [
    "# create a weight matrix for words in training docs\n",
    "embedding_matrix = np.zeros((num_words, embedding_size))\n",
    "\n",
    "for word, i in list(tokenizer.word_index.items())[: num_words - 1]:\n",
    "    try:\n",
    "        embedding_vector = embeddings[word]\n",
    "        embedding_matrix[i] = embedding_vector\n",
    "    except:\n",
    "        continue"
   ]
  },
  {
   "cell_type": "code",
   "execution_count": 65,
   "metadata": {},
   "outputs": [],
   "source": [
    "num_classes = y_train_enc_one_hot.shape[1]"
   ]
  },
  {
   "cell_type": "code",
   "execution_count": 67,
   "metadata": {},
   "outputs": [
    {
     "data": {
      "text/plain": [
       "620"
      ]
     },
     "execution_count": 67,
     "metadata": {},
     "output_type": "execute_result"
    }
   ],
   "source": [
    "max_input_length"
   ]
  },
  {
   "cell_type": "code",
   "execution_count": 68,
   "metadata": {},
   "outputs": [],
   "source": [
    "from tensorflow.keras.backend import clear_session\n",
    "from tensorflow.keras.optimizers import Adam\n",
    "from tensorflow.keras.layers import LSTM, Dense, Embedding, Dropout, Bidirectional\n",
    "from tensorflow.keras.models import Sequential\n",
    "from tensorflow.keras.callbacks import EarlyStopping, ReduceLROnPlateau, ModelCheckpoint"
   ]
  },
  {
   "cell_type": "code",
   "execution_count": 74,
   "metadata": {},
   "outputs": [],
   "source": [
    "def create_model(lr=0.001):\n",
    "    clear_session()    \n",
    "\n",
    "    model = Sequential()\n",
    "    model.add(Embedding(input_dim=num_words, output_dim=embedding_size, weights=[embedding_matrix], input_length=max_input_length, mask_zero=True, trainable=False))\n",
    "    model.add(Bidirectional(LSTM(units=256)))\n",
    "    model.add(Dropout(0.9))\n",
    "    model.add(Dense(units=256, activation='relu'))\n",
    "    model.add(Dropout(0.9))\n",
    "    model.add(Dense(units=128))\n",
    "    model.add(Dense(units=num_classes, activation='softmax'))\n",
    "    # model.summary()\n",
    "    opt = Adam(learning_rate=lr)\n",
    "\n",
    "\n",
    "    model.compile(optimizer=opt, loss='categorical_crossentropy', metrics='categorical_accuracy')\n",
    "    return model\n"
   ]
  },
  {
   "cell_type": "code",
   "execution_count": 82,
   "metadata": {},
   "outputs": [],
   "source": [
    "callbacks = [\n",
    "    ReduceLROnPlateau(monitor='val_categorical_accuracy', factor=0.4, patience=8, mode='max', min_lr=0.00001),\n",
    "#     ModelCheckpoint(filepath=str(data_path / model_folder_name)+'/'+'model.{epoch:02d}-{categorical_accuracy:02f}-{val_categorical_accuracy:.2f}',\n",
    "#                       monitor='val_categorical_accuracy',\n",
    "#                       mode='max',\n",
    "#                       save_best_only=True),\n",
    "    EarlyStopping(monitor='val_categorical_accuracy', patience=5, mode='max')\n",
    "]\n",
    "model = create_model(lr=0.0001)\n",
    "\n",
    "b_s = 16\n",
    "v_d = (x_test_enc, y_test_enc_one_hot)\n",
    "c_b = callbacks"
   ]
  },
  {
   "cell_type": "code",
   "execution_count": 84,
   "metadata": {},
   "outputs": [
    {
     "name": "stdout",
     "output_type": "stream",
     "text": [
      "Epoch 1/200\n",
      "15/15 [==============================] - 1s 63ms/step - loss: 1.2733 - categorical_accuracy: 0.4083 - val_loss: 1.0653 - val_categorical_accuracy: 0.5349\n",
      "Epoch 2/200\n",
      "15/15 [==============================] - 1s 59ms/step - loss: 1.2406 - categorical_accuracy: 0.3875 - val_loss: 1.0625 - val_categorical_accuracy: 0.5814\n",
      "Epoch 3/200\n",
      "15/15 [==============================] - 1s 59ms/step - loss: 1.2789 - categorical_accuracy: 0.4000 - val_loss: 1.0623 - val_categorical_accuracy: 0.5814\n",
      "Epoch 4/200\n",
      "15/15 [==============================] - 1s 57ms/step - loss: 1.3050 - categorical_accuracy: 0.3750 - val_loss: 1.0614 - val_categorical_accuracy: 0.5814\n",
      "Epoch 5/200\n",
      "15/15 [==============================] - 1s 57ms/step - loss: 1.3155 - categorical_accuracy: 0.3542 - val_loss: 1.0600 - val_categorical_accuracy: 0.6512\n",
      "Epoch 6/200\n",
      "15/15 [==============================] - 1s 60ms/step - loss: 1.2451 - categorical_accuracy: 0.3250 - val_loss: 1.0586 - val_categorical_accuracy: 0.6279\n",
      "Epoch 7/200\n",
      "15/15 [==============================] - 1s 58ms/step - loss: 1.1429 - categorical_accuracy: 0.4333 - val_loss: 1.0589 - val_categorical_accuracy: 0.6279\n",
      "Epoch 8/200\n",
      "15/15 [==============================] - 1s 58ms/step - loss: 1.1554 - categorical_accuracy: 0.3917 - val_loss: 1.0591 - val_categorical_accuracy: 0.5581\n",
      "Epoch 9/200\n",
      "15/15 [==============================] - 1s 62ms/step - loss: 1.2103 - categorical_accuracy: 0.3625 - val_loss: 1.0585 - val_categorical_accuracy: 0.5349\n",
      "Epoch 10/200\n",
      "15/15 [==============================] - 1s 59ms/step - loss: 1.2632 - categorical_accuracy: 0.3458 - val_loss: 1.0571 - val_categorical_accuracy: 0.5814\n"
     ]
    },
    {
     "data": {
      "text/plain": [
       "<tensorflow.python.keras.callbacks.History at 0x7fd422f7c890>"
      ]
     },
     "execution_count": 84,
     "metadata": {},
     "output_type": "execute_result"
    }
   ],
   "source": [
    "model.fit(x_train_enc, y_train_enc_one_hot, epochs=200, batch_size=b_s, validation_data=v_d, callbacks=c_b)"
   ]
  },
  {
   "cell_type": "code",
   "execution_count": 85,
   "metadata": {},
   "outputs": [
    {
     "name": "stdout",
     "output_type": "stream",
     "text": [
      "Epoch 1/200\n",
      "15/15 [==============================] - 1s 62ms/step - loss: 1.2093 - categorical_accuracy: 0.3708 - val_loss: 1.0557 - val_categorical_accuracy: 0.5814\n",
      "Epoch 2/200\n",
      "15/15 [==============================] - 1s 59ms/step - loss: 1.1272 - categorical_accuracy: 0.3875 - val_loss: 1.0537 - val_categorical_accuracy: 0.5814\n",
      "Epoch 3/200\n",
      "15/15 [==============================] - 1s 60ms/step - loss: 1.2302 - categorical_accuracy: 0.3583 - val_loss: 1.0513 - val_categorical_accuracy: 0.5814\n",
      "Epoch 4/200\n",
      "15/15 [==============================] - 1s 58ms/step - loss: 1.1267 - categorical_accuracy: 0.4083 - val_loss: 1.0486 - val_categorical_accuracy: 0.6047\n",
      "Epoch 5/200\n",
      "15/15 [==============================] - 1s 57ms/step - loss: 1.1946 - categorical_accuracy: 0.3792 - val_loss: 1.0464 - val_categorical_accuracy: 0.5814\n",
      "Epoch 6/200\n",
      "15/15 [==============================] - 1s 60ms/step - loss: 1.1169 - categorical_accuracy: 0.3750 - val_loss: 1.0456 - val_categorical_accuracy: 0.5814\n",
      "Epoch 7/200\n",
      "15/15 [==============================] - 1s 63ms/step - loss: 1.2121 - categorical_accuracy: 0.3750 - val_loss: 1.0457 - val_categorical_accuracy: 0.6047\n",
      "Epoch 8/200\n",
      "15/15 [==============================] - 1s 58ms/step - loss: 1.1156 - categorical_accuracy: 0.3917 - val_loss: 1.0439 - val_categorical_accuracy: 0.6047\n",
      "Epoch 9/200\n",
      "15/15 [==============================] - 1s 61ms/step - loss: 1.1311 - categorical_accuracy: 0.4167 - val_loss: 1.0434 - val_categorical_accuracy: 0.6047\n"
     ]
    },
    {
     "data": {
      "text/plain": [
       "<tensorflow.python.keras.callbacks.History at 0x7fd420ecb350>"
      ]
     },
     "execution_count": 85,
     "metadata": {},
     "output_type": "execute_result"
    }
   ],
   "source": [
    "model.fit(x_train_enc, y_train_enc_one_hot, epochs=200, batch_size=b_s, validation_data=v_d, callbacks=c_b)"
   ]
  },
  {
   "cell_type": "code",
   "execution_count": 88,
   "metadata": {},
   "outputs": [
    {
     "name": "stdout",
     "output_type": "stream",
     "text": [
      "Epoch 1/200\n",
      "15/15 [==============================] - 1s 63ms/step - loss: 1.1024 - categorical_accuracy: 0.4042 - val_loss: 1.0291 - val_categorical_accuracy: 0.5814\n",
      "Epoch 2/200\n",
      "15/15 [==============================] - 1s 58ms/step - loss: 1.0661 - categorical_accuracy: 0.3792 - val_loss: 1.0265 - val_categorical_accuracy: 0.5814\n",
      "Epoch 3/200\n",
      "15/15 [==============================] - 1s 59ms/step - loss: 1.0655 - categorical_accuracy: 0.4333 - val_loss: 1.0239 - val_categorical_accuracy: 0.5814\n",
      "Epoch 4/200\n",
      "15/15 [==============================] - 1s 59ms/step - loss: 1.0423 - categorical_accuracy: 0.4792 - val_loss: 1.0207 - val_categorical_accuracy: 0.5814\n",
      "Epoch 5/200\n",
      "15/15 [==============================] - 1s 56ms/step - loss: 1.0352 - categorical_accuracy: 0.4750 - val_loss: 1.0173 - val_categorical_accuracy: 0.5814\n",
      "Epoch 6/200\n",
      "15/15 [==============================] - 1s 60ms/step - loss: 1.0297 - categorical_accuracy: 0.4708 - val_loss: 1.0173 - val_categorical_accuracy: 0.5814\n"
     ]
    },
    {
     "data": {
      "text/plain": [
       "<tensorflow.python.keras.callbacks.History at 0x7fd421f30310>"
      ]
     },
     "execution_count": 88,
     "metadata": {},
     "output_type": "execute_result"
    }
   ],
   "source": [
    "model.fit(x_train_enc, y_train_enc_one_hot, epochs=200, batch_size=b_s, validation_data=v_d, callbacks=c_b)"
   ]
  },
  {
   "cell_type": "markdown",
   "metadata": {
    "id": "ha6a2vFT0P2-"
   },
   "source": [
    "## Results"
   ]
  },
  {
   "cell_type": "code",
   "execution_count": 30,
   "metadata": {},
   "outputs": [],
   "source": [
    "model_path = data_path / model_folder_name / 's1_model.08-0.950000-0.91'"
   ]
  },
  {
   "cell_type": "code",
   "execution_count": 34,
   "metadata": {},
   "outputs": [],
   "source": [
    "from tensorflow.keras.models import load_model\n",
    "model = load_model(model_path)"
   ]
  },
  {
   "cell_type": "code",
   "execution_count": 156,
   "metadata": {},
   "outputs": [],
   "source": [
    "# model"
   ]
  },
  {
   "cell_type": "code",
   "execution_count": 31,
   "metadata": {
    "executionInfo": {
     "elapsed": 1439,
     "status": "ok",
     "timestamp": 1607802370744,
     "user": {
      "displayName": "Utkarsh Jain",
      "photoUrl": "https://lh3.googleusercontent.com/-gplhvKJjZdQ/AAAAAAAAAAI/AAAAAAAAEhA/cT_zmta4k_Q/s64/photo.jpg",
      "userId": "09628245901381158092"
     },
     "user_tz": -330
    },
    "id": "P9pdFNwLK4EO"
   },
   "outputs": [],
   "source": [
    "def get_preds(x_enc):\n",
    "    # inp = tokenizer(x, truncation=True, padding=True)\n",
    "    inp_ids = np.asarray(x_enc['input_ids'])\n",
    "    att_masks = np.asarray(x_enc['attention_mask'])\n",
    "    preds = model(inputs=inp_ids, attention_mask=att_masks)\n",
    "    preds = tf.nn.softmax(preds[0])[:, 1]\n",
    "    preds = tf.math.round(preds)\n",
    "    return preds.numpy()\n",
    "\n",
    "def get_preds2(x_enc):\n",
    "# inp = tokenizer(x, truncation=True, padding=True)\n",
    "    inp_ids = np.asarray(x_enc['input_ids'])\n",
    "    # att_masks = np.asarray(x_enc['attention_mask'])\n",
    "    preds = np.empty(inp_ids.shape[0], dtype='uint8')\n",
    "    for i in range(inp_ids.shape[0]):\n",
    "        inp_id = inp_ids[i: i+1, :]\n",
    "        # att_mask = att_masks[i: i+1, :]\n",
    "        # pred = model(inputs=inp_id, attention_mask=att_mask)\n",
    "        pred = model(inputs=inp_id)[0]\n",
    "        pred = tf.math.argmax(pred)\n",
    "        pred = pred.numpy()\n",
    "        preds[i] = pred\n",
    "    return preds\n",
    "\n",
    "def get_pred_from_text(txt):\n",
    "    ''' txt: list of texts\n",
    "    '''\n",
    "    pred = tokenize(txt)\n",
    "    pred = get_preds2(pred)\n",
    "    return pred\n",
    "\n",
    "def get_score(y_true, y_pred):\n",
    "    ''' y_true, y_pred: type: numpy-array\n",
    "    '''\n",
    "    return sum(y_pred == y_true)/len(y_pred)*100"
   ]
  },
  {
   "cell_type": "markdown",
   "metadata": {
    "id": "f2t7YAO3UE2w"
   },
   "source": [
    "---------------"
   ]
  },
  {
   "cell_type": "code",
   "execution_count": 40,
   "metadata": {
    "colab": {
     "base_uri": "https://localhost:8080/"
    },
    "executionInfo": {
     "elapsed": 1233,
     "status": "ok",
     "timestamp": 1607802474123,
     "user": {
      "displayName": "Utkarsh Jain",
      "photoUrl": "https://lh3.googleusercontent.com/-gplhvKJjZdQ/AAAAAAAAAAI/AAAAAAAAEhA/cT_zmta4k_Q/s64/photo.jpg",
      "userId": "09628245901381158092"
     },
     "user_tz": -330
    },
    "id": "RYLH-eR_xxgA",
    "outputId": "4b00cfa7-61c5-4f96-ba60-84d25b41a754"
   },
   "outputs": [
    {
     "data": {
      "text/plain": [
       "array([240, 121, 145,  74, 244,  85,   0,   0,   0,   0], dtype=uint8)"
      ]
     },
     "execution_count": 40,
     "metadata": {},
     "output_type": "execute_result"
    }
   ],
   "source": [
    "x_enc = tokenize(x_test_text[: 10])\n",
    "inp_ids = np.asarray(x_enc['input_ids'])\n",
    "# att_masks = np.asarray(x_enc['attention_mask'])\n",
    "preds = np.empty(inp_ids.shape[0], dtype='uint8')\n",
    "for i in range(inp_ids.shape[0]):\n",
    "    inp_id = inp_ids[i: i+1, :]\n",
    "    # att_mask = att_masks[i: i+1, :]\n",
    "    # pred = model(inputs=inp_id, attention_mask=att_mask)\n",
    "    pred = model(inputs=inp_id)[0]\n",
    "    pred = tf.math.argmax(pred)\n",
    "    pred = pred.numpy()\n",
    "preds[i] = pred\n",
    "preds"
   ]
  },
  {
   "cell_type": "code",
   "execution_count": 41,
   "metadata": {
    "colab": {
     "base_uri": "https://localhost:8080/"
    },
    "executionInfo": {
     "elapsed": 1264,
     "status": "ok",
     "timestamp": 1607802493062,
     "user": {
      "displayName": "Utkarsh Jain",
      "photoUrl": "https://lh3.googleusercontent.com/-gplhvKJjZdQ/AAAAAAAAAAI/AAAAAAAAEhA/cT_zmta4k_Q/s64/photo.jpg",
      "userId": "09628245901381158092"
     },
     "user_tz": -330
    },
    "id": "i-5gZAMRfskG",
    "outputId": "6ecc87a4-842d-4971-dc7f-9569798cbaf8"
   },
   "outputs": [
    {
     "data": {
      "text/plain": [
       "[1, 2, 0, 1, 2, 2, 1, 2, 0, 0]"
      ]
     },
     "execution_count": 41,
     "metadata": {},
     "output_type": "execute_result"
    }
   ],
   "source": [
    "y_test_enc[: 10]"
   ]
  },
  {
   "cell_type": "markdown",
   "metadata": {
    "id": "GLnA_LExUHFU"
   },
   "source": [
    "-------------"
   ]
  },
  {
   "cell_type": "code",
   "execution_count": 32,
   "metadata": {
    "colab": {
     "base_uri": "https://localhost:8080/"
    },
    "executionInfo": {
     "elapsed": 16839,
     "status": "ok",
     "timestamp": 1607802386184,
     "user": {
      "displayName": "Utkarsh Jain",
      "photoUrl": "https://lh3.googleusercontent.com/-gplhvKJjZdQ/AAAAAAAAAAI/AAAAAAAAEhA/cT_zmta4k_Q/s64/photo.jpg",
      "userId": "09628245901381158092"
     },
     "user_tz": -330
    },
    "id": "q4zgJ4TjJ2-0",
    "outputId": "290e5e62-4de5-4109-b10e-09b1ee45bc96"
   },
   "outputs": [
    {
     "name": "stdout",
     "output_type": "stream",
     "text": [
      "93.33333333333333\n"
     ]
    }
   ],
   "source": [
    "# n = 200\n",
    "test = x_train_text\n",
    "y = np.asarray(y_train_enc)\n",
    "\n",
    "y_pred = get_pred_from_text(test)\n",
    "print(get_score(y, y_pred))"
   ]
  },
  {
   "cell_type": "code",
   "execution_count": 33,
   "metadata": {
    "colab": {
     "base_uri": "https://localhost:8080/"
    },
    "executionInfo": {
     "elapsed": 19560,
     "status": "ok",
     "timestamp": 1607802388926,
     "user": {
      "displayName": "Utkarsh Jain",
      "photoUrl": "https://lh3.googleusercontent.com/-gplhvKJjZdQ/AAAAAAAAAAI/AAAAAAAAEhA/cT_zmta4k_Q/s64/photo.jpg",
      "userId": "09628245901381158092"
     },
     "user_tz": -330
    },
    "id": "KS4ysEX4NGCd",
    "outputId": "b38fc101-005e-45db-aeea-07481bfd07c7"
   },
   "outputs": [
    {
     "name": "stdout",
     "output_type": "stream",
     "text": [
      "88.37209302325581\n"
     ]
    }
   ],
   "source": [
    "test = x_test_text\n",
    "y = np.asarray(y_test_enc)\n",
    "\n",
    "y_pred = get_pred_from_text(test)\n",
    "print(get_score(y, y_pred))"
   ]
  },
  {
   "cell_type": "code",
   "execution_count": 91,
   "metadata": {
    "executionInfo": {
     "elapsed": 19543,
     "status": "ok",
     "timestamp": 1607802388929,
     "user": {
      "displayName": "Utkarsh Jain",
      "photoUrl": "https://lh3.googleusercontent.com/-gplhvKJjZdQ/AAAAAAAAAAI/AAAAAAAAEhA/cT_zmta4k_Q/s64/photo.jpg",
      "userId": "09628245901381158092"
     },
     "user_tz": -330
    },
    "id": "ip5vQ6GsNGxI"
   },
   "outputs": [],
   "source": [
    "# test = x_val_text\n",
    "# y = y_val_enc\n",
    "\n",
    "# y_pred = get_pred_from_text(test)\n",
    "# print(get_score(y, y_pred))"
   ]
  },
  {
   "cell_type": "code",
   "execution_count": null,
   "metadata": {
    "id": "zXF3JWExqQlV"
   },
   "outputs": [],
   "source": []
  },
  {
   "cell_type": "markdown",
   "metadata": {},
   "source": [
    "## XLNet"
   ]
  },
  {
   "cell_type": "code",
   "execution_count": 34,
   "metadata": {},
   "outputs": [],
   "source": [
    "from transformers import TFXLNetModel, XLNetConfig, XLNetTokenizer"
   ]
  },
  {
   "cell_type": "code",
   "execution_count": 35,
   "metadata": {},
   "outputs": [
    {
     "name": "stdout",
     "output_type": "stream",
     "text": [
      "Requirement already satisfied: sentencepiece in /home/utkarsh/anaconda3/lib/python3.7/site-packages (0.1.91)\r\n"
     ]
    }
   ],
   "source": [
    "!pip install sentencepiece"
   ]
  },
  {
   "cell_type": "code",
   "execution_count": 1,
   "metadata": {},
   "outputs": [],
   "source": [
    "# Name of the BERT model to use\n",
    "model_name = 'xlnet-base-cased'\n",
    "\n",
    "# Max length of tokens\n",
    "# max_length = 500\n",
    "\n",
    "# Load transformers config and set output_hidden_states to False\n",
    "config = XLNetConfig.from_pretrained(model_name)\n",
    "config.output_hidden_states = False\n",
    "config.num_labels = num_classes\n",
    "\n",
    "# Load BERT tokenizer\n",
    "tokenizer = XLNetTokenizer.from_pretrained(pretrained_model_name_or_path=model_name, config=config)\n",
    "\n",
    "# Load the Transformers BERT model\n",
    "xlnet_model = TFXLNetModel.from_pretrained(model_name, config=config)"
   ]
  },
  {
   "cell_type": "code",
   "execution_count": 2,
   "metadata": {},
   "outputs": [],
   "source": [
    "# Prepare input data\n",
    "# Tokenize texts \n",
    "def tokenize(text):\n",
    "    tokenized = tokenizer(text,\n",
    "              max_length=max_length,\n",
    "              padding=True,\n",
    "              truncation=True,\n",
    "              return_tensors='tf',\n",
    "              return_token_type_ids=False,\n",
    "              return_attention_mask=False,\n",
    "              verbose=True)\n",
    "    return tokenized\n",
    "\n",
    "x_train_enc = tokenize(x_train_text)\n",
    "x_test_enc = tokenize(x_test_text)\n",
    "\n",
    "y_train_enc_one_hot = to_categorical(y_train_enc, num_classes=num_classes)\n",
    "y_test_enc_one_hot = to_categorical(y_test_enc, num_classes=num_classes)"
   ]
  },
  {
   "cell_type": "code",
   "execution_count": 3,
   "metadata": {},
   "outputs": [],
   "source": [
    "# Load layers\n",
    "distilbert = xlnet_model.layers[0]\n",
    "transformer = TFXLNetMainLayer(config, name=\"transformer\")\n",
    "pre_classifier = Dense(units=config.dim,\n",
    "                       kernel_initializer=TruncatedNormal(stddev=config.initializer_range),\n",
    "                       activation='relu',\n",
    "                       name='pre_classifier')\n",
    "classifier = Dense(units=config.num_labels,\n",
    "                   kernel_initializer=TruncatedNormal(stddev=config.initializer_range),\n",
    "                   name='classifier')\n",
    "dropout = Dropout(config.seq_classif_dropout)\n",
    "\n",
    "# Build model input\n",
    "input_ids = Input(shape=(max_length,), name='input_ids', dtype='int32')\n",
    "# attention_mask = Input(shape=(max_length,), name='attention_mask', dtype='int32')\n",
    "# inputs = {'input_ids': input_ids, 'attention_mask': attention_mask}\n",
    "inputs = {'input_ids': input_ids}\n",
    "\n",
    "# forward pass\n",
    "distilbert_output = distilbert(inputs)\n",
    "hidden_state = distilbert_output[0]\n",
    "pooled_output = hidden_state[:, 0]\n",
    "pooled_output = pre_classifier(pooled_output)\n",
    "pooled_output = dropout(pooled_output) # , training=False True or False?\n",
    "logits = classifier(pooled_output) \n",
    "\n",
    "# build a model using TF functional API\n",
    "model = Model(inputs=inputs, outputs=logits, name='Complaint_Classifier')\n",
    "\n",
    "# Take a look at the model\n",
    "model.summary()"
   ]
  }
 ],
 "metadata": {
  "accelerator": "GPU",
  "colab": {
   "authorship_tag": "ABX9TyOzLMiIe1Yz/Yg9B0BGnxcv",
   "collapsed_sections": [
    "-T7DhxxUb4_b",
    "ycJKtmXohZU3",
    "SaQ6xa_eHl3e"
   ],
   "mount_file_id": "1fFu5VqJlYQeBGX-IDXWttd6f8WmnT3Vw",
   "name": "trasformers_test.ipynb",
   "provenance": []
  },
  "kernelspec": {
   "display_name": "email_classification",
   "language": "python",
   "name": "email_classification"
  },
  "language_info": {
   "codemirror_mode": {
    "name": "ipython",
    "version": 3
   },
   "file_extension": ".py",
   "mimetype": "text/x-python",
   "name": "python",
   "nbconvert_exporter": "python",
   "pygments_lexer": "ipython3",
   "version": "3.7.6"
  }
 },
 "nbformat": 4,
 "nbformat_minor": 1
}
